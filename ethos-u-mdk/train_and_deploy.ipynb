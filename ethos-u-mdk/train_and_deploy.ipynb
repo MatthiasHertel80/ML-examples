{
 "cells": [
  {
   "cell_type": "code",
   "execution_count": 63,
   "metadata": {},
   "outputs": [],
   "source": [
    "#  Copyright (c) 2021 Arm Limited. All rights reserved.\n",
    "#  SPDX-License-Identifier: Apache-2.0\n",
    "#\n",
    "#  Licensed under the Apache License, Version 2.0 (the \"License\");\n",
    "#  you may not use this file except in compliance with the License.\n",
    "#  You may obtain a copy of the License at\n",
    "#\n",
    "#      http://www.apache.org/licenses/LICENSE-2.0\n",
    "#\n",
    "#  Unless required by applicable law or agreed to in writing, software\n",
    "#  distributed under the License is distributed on an \"AS IS\" BASIS,\n",
    "#  WITHOUT WARRANTIES OR CONDITIONS OF ANY KIND, either express or implied.\n",
    "#  See the License for the specific language governing permissions and\n",
    "#  limitations under the License."
   ]
  },
  {
   "attachments": {},
   "cell_type": "markdown",
   "metadata": {
    "id": "bbfsgUcBG_hx"
   },
   "source": [
    "# Train and Deploy your NPU-enabled models\n",
    "\n",
    "> Using the Arm Corstone-300 with Cortex-M55 and Ethos-U55."
   ]
  },
  {
   "attachments": {},
   "cell_type": "markdown",
   "metadata": {
    "id": "Jty-u4JWHViE"
   },
   "source": [
    "## Summary\n",
    "\n",
    "This notebook presents a flow to help bridge the gap between data scientists and embedded engineers."
   ]
  },
  {
   "attachments": {},
   "cell_type": "markdown",
   "metadata": {
    "id": "xOvd37uuHTE7"
   },
   "source": [
    "## Training a Model\n",
    "\n",
    "In this example we are going to train a \"toy\" model. We will create a basic convolutional neural network model to solve the MNIST problem.\n",
    "\n",
    "The [MNIST database](http://yann.lecun.com/exdb/mnist/) is a dataset of handwritten digits which can be used to train a digit classifier. It is often used as a starter dataset."
   ]
  },
  {
   "attachments": {},
   "cell_type": "markdown",
   "metadata": {
    "id": "4EatvozlIIlO"
   },
   "source": [
    "Let's start of by importing the required Python dependencies. For this we will use the [TensorFlow](https://github.com/tensorflow/tensorflow) framework for the model and [TensorFlow Datasets](https://github.com/tensorflow/datasets) to download the MNIST dataset. If you're using Google Colab, these dependencies come preinstalled."
   ]
  },
  {
   "cell_type": "code",
   "execution_count": 64,
   "metadata": {
    "id": "f3CjmqOzKBY5"
   },
   "outputs": [],
   "source": [
    "import tensorflow as tf\n",
    "import tensorflow_datasets as tfds\n",
    "import numpy as np"
   ]
  },
  {
   "attachments": {},
   "cell_type": "markdown",
   "metadata": {
    "id": "VJFi-du1IGLt"
   },
   "source": [
    "We can now download the MNIST dataset using TensorFlow datasets."
   ]
  },
  {
   "cell_type": "code",
   "execution_count": 65,
   "metadata": {
    "colab": {
     "base_uri": "https://localhost:8080/",
     "height": 222,
     "referenced_widgets": [
      "20200e22b37c40f38d0cae9d63828d61",
      "d0332e909a1e41d4b79c78d872426973",
      "a866c812aefb42709c286b504c4b502a",
      "cc2f6b02e2fa4e6b9ba5cadb7c940e38",
      "bedb6318f10e47768eed2b0a76f80169",
      "07a92d5a2ba94fbfa98f8e69e858d1b7",
      "2e5a1d3859f74f7ebf8e3a0436276e4f",
      "b3d302a7846a4ebe8540ad07331ee1b5"
     ]
    },
    "id": "x1LDNN4CKJNJ",
    "outputId": "a9197162-c6d1-49c5-9741-322234aae8dd"
   },
   "outputs": [],
   "source": [
    "(ds_train, ds_test), ds_info = tfds.load('mnist', split=['train', 'test'], shuffle_files=True, \n",
    "  as_supervised=True, with_info=True,\n",
    ")"
   ]
  },
  {
   "attachments": {},
   "cell_type": "markdown",
   "metadata": {
    "id": "Pv_Oq-qbekcD"
   },
   "source": [
    "Once downloaded, we write a function to preprocess the MNIST dataset ready for use in a neural network. The images come in `uint8` format, and so to normalize the dataset so that all values are between `[0, 1]` we divde by `255` (the max `uint8` value)."
   ]
  },
  {
   "cell_type": "code",
   "execution_count": 66,
   "metadata": {
    "id": "I2WykZXvKMcB"
   },
   "outputs": [],
   "source": [
    "def normalize_img(image, label):\n",
    "  \"\"\"Normalizes images: `uint8` -> `float32`.\"\"\"\n",
    "  return tf.cast(image, tf.float32) / 255., label"
   ]
  },
  {
   "attachments": {},
   "cell_type": "markdown",
   "metadata": {
    "id": "VOHsvHJFfBZK"
   },
   "source": [
    "Let's apply this function to the dataset using `.map` and take a batch size of `128`."
   ]
  },
  {
   "cell_type": "code",
   "execution_count": 67,
   "metadata": {
    "id": "V9ifl7ztLp-K"
   },
   "outputs": [],
   "source": [
    "ds_train = ds_train.map(\n",
    "  normalize_img, num_parallel_calls=tf.data.experimental.AUTOTUNE\n",
    ")\n",
    "ds_train = ds_train.cache()\n",
    "ds_train = ds_train.shuffle(ds_info.splits['train'].num_examples)\n",
    "ds_train = ds_train.batch(128)\n",
    "ds_train = ds_train.prefetch(tf.data.experimental.AUTOTUNE)\n",
    "\n",
    "ds_test = ds_test.map(\n",
    "  normalize_img, num_parallel_calls=tf.data.experimental.AUTOTUNE\n",
    ")\n",
    "ds_test = ds_test.batch(128)\n",
    "ds_test = ds_test.cache()\n",
    "ds_test = ds_test.prefetch(tf.data.experimental.AUTOTUNE)"
   ]
  },
  {
   "attachments": {},
   "cell_type": "markdown",
   "metadata": {
    "id": "p0CIYup1fP3j"
   },
   "source": [
    "We are now ready to create the model using the `Sequential` functionality. \n",
    "\n",
    "Although we could achieve a model with high accuracy using a fully connected model, this would require a lot of weights and biases. The Ethos-U55 is designed to be used with a Cortex-M55 meaning there will be memory limits. For this reason we build a convolutional network with large kernel sizes to reduce the number of weights."
   ]
  },
  {
   "cell_type": "code",
   "execution_count": 68,
   "metadata": {
    "id": "UXs4ohIBLtJs"
   },
   "outputs": [],
   "source": [
    "model = tf.keras.models.Sequential([\n",
    "  tf.keras.layers.InputLayer(input_shape=(28,28,1)),\n",
    "  tf.keras.layers.Conv2D(32, (3, 3), activation=tf.nn.relu, input_shape=(28, 28, 1)),\n",
    "  tf.keras.layers.MaxPooling2D((2, 2)),\n",
    "  tf.keras.layers.Conv2D(64, (3, 3), activation=tf.nn.relu),\n",
    "  tf.keras.layers.MaxPooling2D((2, 2)),\n",
    "  tf.keras.layers.Conv2D(64, (3, 3), activation=tf.nn.relu),\n",
    "  tf.keras.layers.Flatten(),\n",
    "  tf.keras.layers.Dense(64, activation=tf.nn.relu),\n",
    "  tf.keras.layers.Dense(10, activation=tf.nn.softmax)\n",
    "])"
   ]
  },
  {
   "attachments": {},
   "cell_type": "markdown",
   "metadata": {
    "id": "4iC85LSpgcW5"
   },
   "source": [
    "We are now ready to train the model. For this toy example we will just train for a singular epoch."
   ]
  },
  {
   "cell_type": "code",
   "execution_count": 69,
   "metadata": {
    "colab": {
     "base_uri": "https://localhost:8080/"
    },
    "id": "3hQWCshvgh3X",
    "outputId": "81d893d9-a1cf-445d-d86c-062558279b79"
   },
   "outputs": [
    {
     "name": "stdout",
     "output_type": "stream",
     "text": [
      "469/469 [==============================] - 9s 16ms/step - loss: 0.2349 - sparse_categorical_accuracy: 0.9298 - val_loss: 0.0693 - val_sparse_categorical_accuracy: 0.9771\n"
     ]
    }
   ],
   "source": [
    "model.compile(\n",
    "  optimizer=tf.keras.optimizers.legacy.Adam(0.001), \n",
    "  loss=tf.keras.losses.SparseCategoricalCrossentropy(from_logits=True),\n",
    "  metrics=[tf.keras.metrics.SparseCategoricalAccuracy()],\n",
    ")\n",
    "\n",
    "history = model.fit(ds_train, epochs=1, validation_data=ds_test)"
   ]
  },
  {
   "attachments": {},
   "cell_type": "markdown",
   "metadata": {
    "id": "HWWHoEwEgrgn"
   },
   "source": [
    "## Quantize the Model\n",
    "\n",
    "The next step is to quantize the model. This converts the weights from floating-point numbers to integer numbers. The Ethos-U55 supports 8 bit weights, and 8 bit and 16 bit activations. \n",
    "\n",
    "In this example we will quantize the model into `int8` format. "
   ]
  },
  {
   "attachments": {},
   "cell_type": "markdown",
   "metadata": {
    "id": "Itj03AI3g-3u"
   },
   "source": [
    "Let's first `unbatch` the dataset from 128 samples at a time. In inference we will only be running one image at a time."
   ]
  },
  {
   "cell_type": "code",
   "execution_count": 70,
   "metadata": {
    "id": "d6mQX5slMVRi"
   },
   "outputs": [],
   "source": [
    "ds_train = ds_train.unbatch()"
   ]
  },
  {
   "attachments": {},
   "cell_type": "markdown",
   "metadata": {
    "id": "F16ebTLfhIbS"
   },
   "source": [
    "We can then build a generator function to use in the conversion process. \n",
    "\n",
    "Creating a generator allows the TensorFlow Lite converter find the best weights to fall to based on the input data."
   ]
  },
  {
   "cell_type": "code",
   "execution_count": 71,
   "metadata": {
    "id": "yK0O6BZxhHvW"
   },
   "outputs": [],
   "source": [
    "def representative_data_gen():\n",
    "  for input_value, output_value in ds_train.batch(1).take(100):\n",
    "    yield [input_value]"
   ]
  },
  {
   "attachments": {},
   "cell_type": "markdown",
   "metadata": {
    "id": "4cu6-dIGhUOR"
   },
   "source": [
    "Finally we are ready to convert the model. We can use the `from_keras_model` method to create a converter from our model:"
   ]
  },
  {
   "cell_type": "code",
   "execution_count": 72,
   "metadata": {
    "id": "G74vW7fHhWwO"
   },
   "outputs": [],
   "source": [
    "converter = tf.lite.TFLiteConverter.from_keras_model(model)"
   ]
  },
  {
   "attachments": {},
   "cell_type": "markdown",
   "metadata": {
    "id": "cseaAGpahiGw"
   },
   "source": [
    "We can then set the `inference_input_type`, `inference_output_type` and `supported_ops` to `int8`:"
   ]
  },
  {
   "cell_type": "code",
   "execution_count": 73,
   "metadata": {
    "id": "NfERi-ZihhnQ"
   },
   "outputs": [],
   "source": [
    "converter.optimizations = [tf.lite.Optimize.DEFAULT]\n",
    "converter.target_spec.supported_ops = [tf.lite.OpsSet.TFLITE_BUILTINS_INT8]\n",
    "converter.inference_input_type = tf.int8\n",
    "converter.inference_output_type = tf.int8"
   ]
  },
  {
   "attachments": {},
   "cell_type": "markdown",
   "metadata": {
    "id": "bFkw1yKeh9MR"
   },
   "source": [
    "We then add the `representative_dataset` to be our generator."
   ]
  },
  {
   "cell_type": "code",
   "execution_count": 74,
   "metadata": {
    "id": "51eB1Qcph5fP"
   },
   "outputs": [],
   "source": [
    "converter.representative_dataset = representative_data_gen"
   ]
  },
  {
   "attachments": {},
   "cell_type": "markdown",
   "metadata": {
    "id": "ZZ9plu3riC8S"
   },
   "source": [
    "The last step is to run the conversion process"
   ]
  },
  {
   "cell_type": "code",
   "execution_count": 75,
   "metadata": {
    "colab": {
     "base_uri": "https://localhost:8080/"
    },
    "id": "-dJDoeRYiDXW",
    "outputId": "d3f6682c-ea18-4d87-fcba-907b48b91d82"
   },
   "outputs": [
    {
     "name": "stdout",
     "output_type": "stream",
     "text": [
      "INFO:tensorflow:Assets written to: /var/folders/6f/cknlmh7d56x1_7k30blth1gr0000gn/T/tmph553dspj/assets\n"
     ]
    },
    {
     "name": "stderr",
     "output_type": "stream",
     "text": [
      "INFO:tensorflow:Assets written to: /var/folders/6f/cknlmh7d56x1_7k30blth1gr0000gn/T/tmph553dspj/assets\n",
      "/Library/Frameworks/Python.framework/Versions/3.11/lib/python3.11/site-packages/tensorflow/lite/python/convert.py:887: UserWarning: Statistics for quantized inputs were expected, but not specified; continuing anyway.\n",
      "  warnings.warn(\n",
      "2023-06-05 14:41:39.038197: W tensorflow/compiler/mlir/lite/python/tf_tfl_flatbuffer_helpers.cc:364] Ignored output_format.\n",
      "2023-06-05 14:41:39.038210: W tensorflow/compiler/mlir/lite/python/tf_tfl_flatbuffer_helpers.cc:367] Ignored drop_control_dependency.\n",
      "2023-06-05 14:41:39.038365: I tensorflow/cc/saved_model/reader.cc:45] Reading SavedModel from: /var/folders/6f/cknlmh7d56x1_7k30blth1gr0000gn/T/tmph553dspj\n",
      "2023-06-05 14:41:39.039534: I tensorflow/cc/saved_model/reader.cc:91] Reading meta graph with tags { serve }\n",
      "2023-06-05 14:41:39.039542: I tensorflow/cc/saved_model/reader.cc:132] Reading SavedModel debug info (if present) from: /var/folders/6f/cknlmh7d56x1_7k30blth1gr0000gn/T/tmph553dspj\n",
      "2023-06-05 14:41:39.042828: I tensorflow/cc/saved_model/loader.cc:231] Restoring SavedModel bundle.\n",
      "2023-06-05 14:41:39.089456: I tensorflow/cc/saved_model/loader.cc:215] Running initialization op on SavedModel bundle at path: /var/folders/6f/cknlmh7d56x1_7k30blth1gr0000gn/T/tmph553dspj\n",
      "2023-06-05 14:41:39.103265: I tensorflow/cc/saved_model/loader.cc:314] SavedModel load for tags { serve }; Status: success: OK. Took 64900 microseconds.\n",
      "fully_quantize: 0, inference_type: 6, input_inference_type: INT8, output_inference_type: INT8\n"
     ]
    }
   ],
   "source": [
    "tflite_model_quant = converter.convert()"
   ]
  },
  {
   "attachments": {},
   "cell_type": "markdown",
   "metadata": {
    "id": "G02dEuPeiG87"
   },
   "source": [
    "We now have a quantized model in TFLite format. Let's save this to our files as `my_model.tflite`:"
   ]
  },
  {
   "cell_type": "code",
   "execution_count": 76,
   "metadata": {
    "id": "N0fUWRdtNd2S"
   },
   "outputs": [],
   "source": [
    "with open(\"my_model.tflite\", \"wb\") as f:\n",
    "  f.write(tflite_model_quant)"
   ]
  },
  {
   "attachments": {},
   "cell_type": "markdown",
   "metadata": {
    "id": "freVF5X5iZOm"
   },
   "source": [
    "## Vela Compiler\n",
    "\n",
    "When creating a model for use on Ethos-U55 we need to use the Vela Compiler to optimise the model.\n",
    "\n",
    "This is a command-line tool written in Python which takes a `.tflite` file and outputs another `.tflite` file. The new file is restructured in a way that Ethos-U understands."
   ]
  },
  {
   "attachments": {},
   "cell_type": "markdown",
   "metadata": {
    "id": "qSWWZxa3jHqN"
   },
   "source": [
    "To do this, let's first install `ethos-u-vela` for the compiler and `xxd` which will be used to convert binary files into hexdumps."
   ]
  },
  {
   "cell_type": "code",
   "execution_count": 77,
   "metadata": {
    "colab": {
     "base_uri": "https://localhost:8080/"
    },
    "id": "PhxBhPy2Lw_e",
    "outputId": "6d794fa9-bde1-4176-dde5-aa342a04d672"
   },
   "outputs": [
    {
     "name": "stdout",
     "output_type": "stream",
     "text": [
      "Found existing installation: ethos-u-vela 3.8.0\n",
      "Uninstalling ethos-u-vela-3.8.0:\n",
      "  Successfully uninstalled ethos-u-vela-3.8.0\n",
      "Note: you may need to restart the kernel to use updated packages.\n",
      "\u001b[31mERROR: Ignored the following versions that require a different python version: 1.21.2 Requires-Python >=3.7,<3.11; 1.21.3 Requires-Python >=3.7,<3.11; 1.21.4 Requires-Python >=3.7,<3.11; 1.21.5 Requires-Python >=3.7,<3.11; 1.21.6 Requires-Python >=3.7,<3.11\u001b[0m\u001b[31m\n",
      "\u001b[0m\u001b[31mERROR: Could not find a version that satisfies the requirement numpy==1.21.4 (from versions: 1.3.0, 1.4.1, 1.5.0, 1.5.1, 1.6.0, 1.6.1, 1.6.2, 1.7.0, 1.7.1, 1.7.2, 1.8.0, 1.8.1, 1.8.2, 1.9.0, 1.9.1, 1.9.2, 1.9.3, 1.10.0.post2, 1.10.1, 1.10.2, 1.10.4, 1.11.0, 1.11.1, 1.11.2, 1.11.3, 1.12.0, 1.12.1, 1.13.0, 1.13.1, 1.13.3, 1.14.0, 1.14.1, 1.14.2, 1.14.3, 1.14.4, 1.14.5, 1.14.6, 1.15.0, 1.15.1, 1.15.2, 1.15.3, 1.15.4, 1.16.0, 1.16.1, 1.16.2, 1.16.3, 1.16.4, 1.16.5, 1.16.6, 1.17.0, 1.17.1, 1.17.2, 1.17.3, 1.17.4, 1.17.5, 1.18.0, 1.18.1, 1.18.2, 1.18.3, 1.18.4, 1.18.5, 1.19.0, 1.19.1, 1.19.2, 1.19.3, 1.19.4, 1.19.5, 1.20.0, 1.20.1, 1.20.2, 1.20.3, 1.21.0, 1.21.1, 1.22.0, 1.22.1, 1.22.2, 1.22.3, 1.22.4, 1.23.0rc1, 1.23.0rc2, 1.23.0rc3, 1.23.0, 1.23.1, 1.23.2, 1.23.3, 1.23.4, 1.23.5, 1.24.0rc1, 1.24.0rc2, 1.24.0, 1.24.1, 1.24.2, 1.24.3, 1.25.0rc1)\u001b[0m\u001b[31m\n",
      "\u001b[0m\u001b[31mERROR: No matching distribution found for numpy==1.21.4\u001b[0m\u001b[31m\n",
      "\u001b[0m\n",
      "\u001b[1m[\u001b[0m\u001b[34;49mnotice\u001b[0m\u001b[1;39;49m]\u001b[0m\u001b[39;49m A new release of pip is available: \u001b[0m\u001b[31;49m23.0\u001b[0m\u001b[39;49m -> \u001b[0m\u001b[32;49m23.1.2\u001b[0m\n",
      "\u001b[1m[\u001b[0m\u001b[34;49mnotice\u001b[0m\u001b[1;39;49m]\u001b[0m\u001b[39;49m To update, run: \u001b[0m\u001b[32;49mpip3 install --upgrade pip\u001b[0m\n",
      "Note: you may need to restart the kernel to use updated packages.\n",
      "Requirement already satisfied: setuptools_scm[toml]<6 in /Library/Frameworks/Python.framework/Versions/3.11/lib/python3.11/site-packages (5.0.2)\n",
      "Requirement already satisfied: wheel in /Library/Frameworks/Python.framework/Versions/3.11/lib/python3.11/site-packages (0.40.0)\n",
      "Requirement already satisfied: setuptools in /Library/Frameworks/Python.framework/Versions/3.11/lib/python3.11/site-packages (from setuptools_scm[toml]<6) (65.5.0)\n",
      "Requirement already satisfied: toml in /Library/Frameworks/Python.framework/Versions/3.11/lib/python3.11/site-packages (from setuptools_scm[toml]<6) (0.10.2)\n",
      "\n",
      "\u001b[1m[\u001b[0m\u001b[34;49mnotice\u001b[0m\u001b[1;39;49m]\u001b[0m\u001b[39;49m A new release of pip is available: \u001b[0m\u001b[31;49m23.0\u001b[0m\u001b[39;49m -> \u001b[0m\u001b[32;49m23.1.2\u001b[0m\n",
      "\u001b[1m[\u001b[0m\u001b[34;49mnotice\u001b[0m\u001b[1;39;49m]\u001b[0m\u001b[39;49m To update, run: \u001b[0m\u001b[32;49mpip3 install --upgrade pip\u001b[0m\n",
      "Note: you may need to restart the kernel to use updated packages.\n",
      "Collecting ethos-u-vela\n",
      "  Downloading ethos-u-vela-3.8.0.tar.gz (373 kB)\n",
      "\u001b[2K     \u001b[90m━━━━━━━━━━━━━━━━━━━━━━━━━━━━━━━━━━━━━━━\u001b[0m \u001b[32m373.7/373.7 kB\u001b[0m \u001b[31m7.6 MB/s\u001b[0m eta \u001b[36m0:00:00\u001b[0ma \u001b[36m0:00:01\u001b[0m\n",
      "\u001b[?25h  Preparing metadata (pyproject.toml) ... \u001b[?25ldone\n",
      "\u001b[?25hRequirement already satisfied: flatbuffers==2.0.7 in /Library/Frameworks/Python.framework/Versions/3.11/lib/python3.11/site-packages (from ethos-u-vela) (2.0.7)\n",
      "Requirement already satisfied: lxml>=4.5.2 in /Library/Frameworks/Python.framework/Versions/3.11/lib/python3.11/site-packages (from ethos-u-vela) (4.9.2)\n",
      "Requirement already satisfied: numpy in /Library/Frameworks/Python.framework/Versions/3.11/lib/python3.11/site-packages (from ethos-u-vela) (1.24.1)\n",
      "Building wheels for collected packages: ethos-u-vela\n",
      "  Building wheel for ethos-u-vela (pyproject.toml) ... \u001b[?25ldone\n",
      "\u001b[?25h  Created wheel for ethos-u-vela: filename=ethos_u_vela-3.8.0-cp311-cp311-macosx_10_9_universal2.whl size=546510 sha256=537fc1c9266030d531e59db3ef5b1c656ecb4b12418b740b4095212f0ce1772b\n",
      "  Stored in directory: /private/var/folders/6f/cknlmh7d56x1_7k30blth1gr0000gn/T/pip-ephem-wheel-cache-ok30kojk/wheels/de/5a/6e/5f782bf2ff66e9258310e3a4eac0ed6c8fbd4bb8f44f8cf427\n",
      "Successfully built ethos-u-vela\n",
      "Installing collected packages: ethos-u-vela\n",
      "Successfully installed ethos-u-vela-3.8.0\n",
      "\n",
      "\u001b[1m[\u001b[0m\u001b[34;49mnotice\u001b[0m\u001b[1;39;49m]\u001b[0m\u001b[39;49m A new release of pip is available: \u001b[0m\u001b[31;49m23.0\u001b[0m\u001b[39;49m -> \u001b[0m\u001b[32;49m23.1.2\u001b[0m\n",
      "\u001b[1m[\u001b[0m\u001b[34;49mnotice\u001b[0m\u001b[1;39;49m]\u001b[0m\u001b[39;49m To update, run: \u001b[0m\u001b[32;49mpip3 install --upgrade pip\u001b[0m\n",
      "Note: you may need to restart the kernel to use updated packages.\n"
     ]
    }
   ],
   "source": [
    "%pip uninstall ethos-u-vela -y\n",
    "%pip install numpy==1.21.4 --force\n",
    "%pip install \"setuptools_scm[toml]<6\" wheel\n",
    "%pip install ethos-u-vela --no-build-isolation --no-cache-dir"
   ]
  },
  {
   "attachments": {},
   "cell_type": "markdown",
   "metadata": {
    "id": "pIYnCP6FjkRL"
   },
   "source": [
    "We can now compile the model. For this we will specify the config as `ethos-u55-128`. This is one of the commonly used templates for Ethos-U55. This configuration has 128 macs. We will create a `vela.ini` file with our system configuration description. This information helps vela to optimize model efficiently."
   ]
  },
  {
   "cell_type": "code",
   "execution_count": 78,
   "metadata": {},
   "outputs": [
    {
     "name": "stdout",
     "output_type": "stream",
     "text": [
      "Overwriting vela.ini\n"
     ]
    }
   ],
   "source": [
    "%%writefile vela.ini\n",
    "\n",
    "[System_Config.Ethos_U55_High_End_Embedded]\n",
    "core_clock=500e6\n",
    "axi0_port=Sram\n",
    "axi1_port=OffChipFlash\n",
    "Sram_clock_scale=1.0\n",
    "Sram_burst_length=32\n",
    "Sram_read_latency=32\n",
    "Sram_write_latency=32\n",
    "OffChipFlash_clock_scale=0.125\n",
    "OffChipFlash_burst_length=128\n",
    "OffChipFlash_read_latency=64\n",
    "OffChipFlash_write_latency=64\n",
    "\n",
    "; Shared SRAM: the SRAM is shared between the Ethos-U and the Cortex-M software\n",
    "; The non-SRAM memory is assumed to be read-only\n",
    "[Memory_Mode.Shared_Sram]\n",
    "const_mem_area=Axi1\n",
    "arena_mem_area=Axi0\n",
    "cache_mem_area=Axi0"
   ]
  },
  {
   "attachments": {},
   "cell_type": "markdown",
   "metadata": {},
   "source": [
    "TODO: make this work. Vela has issues with numpy version"
   ]
  },
  {
   "cell_type": "code",
   "execution_count": 79,
   "metadata": {
    "colab": {
     "base_uri": "https://localhost:8080/"
    },
    "id": "pfaE1o5VTLmm",
    "outputId": "32f7d41c-5bfa-4bef-bff4-3825d1da3ff1"
   },
   "outputs": [],
   "source": [
    "%%script false --no-raise-error\n",
    "%%bash\n",
    "vela --accelerator-config=ethos-u55-128 \\\n",
    "--optimise Performance \\\n",
    "--memory-mode=Shared_Sram \\\n",
    "--system-config=Ethos_U55_High_End_Embedded \\\n",
    "--config vela.ini \\\n",
    "my_model.tflite \\\n",
    "|| echo \"Error: Vela compilation failed with exit code $?\"\n"
   ]
  },
  {
   "attachments": {},
   "cell_type": "markdown",
   "metadata": {
    "id": "tiNyZX9lj1Oe"
   },
   "source": [
    "We can then convert the `.tflite` binary into a hexdump C headerfile."
   ]
  },
  {
   "cell_type": "code",
   "execution_count": 80,
   "metadata": {
    "colab": {
     "base_uri": "https://localhost:8080/"
    },
    "id": "3f-vZlyhj0rm",
    "outputId": "e5f468d3-012a-4579-8c1e-d92654af5b5a"
   },
   "outputs": [
    {
     "name": "stdout",
     "output_type": "stream",
     "text": [
      "xxd: output/my_model_vela.tflite: No such file or directory\n"
     ]
    }
   ],
   "source": [
    "!xxd -i output/my_model_vela.tflite my_network_model.h"
   ]
  },
  {
   "attachments": {},
   "cell_type": "markdown",
   "metadata": {
    "id": "HceA9y8Oj_hF"
   },
   "source": [
    "The last step is to do some cleaning up of the file for the application. Here we rename the model from `output_my_model_vela_tflite` to `network_model` and add some header guards to the file.\n",
    "\n",
    "The most important is to add model variable attribute `__attribute__((aligned(16)))` for 16 bytes alignment."
   ]
  },
  {
   "cell_type": "code",
   "execution_count": 81,
   "metadata": {
    "colab": {
     "base_uri": "https://localhost:8080/"
    },
    "id": "0t2Y0Aapj_N3",
    "outputId": "8067d046-abb2-4230-c7b8-13f52322790a"
   },
   "outputs": [
    {
     "name": "stdout",
     "output_type": "stream",
     "text": [
      "sed: 1: \"my_network_model.h\": invalid command code m\n",
      "sed: 1: \"my_network_model.h\": invalid command code m\n",
      "sed: 1: \"my_network_model.h\": invalid command code m\n",
      "sed: 1: \"my_network_model.h\": invalid command code m\n"
     ]
    }
   ],
   "source": [
    "!sed -i 's/unsigned int output_my_model_vela_tflite_len/const unsigned int network_model_len/' my_network_model.h\n",
    "!sed -i 's/unsigned char output_my_model_vela_tflite\\[\\]/const unsigned char network_model\\[\\] __attribute__((aligned(16)))/' my_network_model.h\n",
    "\n",
    "!sed -i '1s/^/#define NETWORK_MODEL_H\\n/' my_network_model.h\n",
    "!sed -i '1s/^/#ifndef NETWORK_MODEL_H\\n/' my_network_model.h\n",
    "!echo \"#endif //NETWORK_MODEL_H\" >> my_network_model.h"
   ]
  },
  {
   "attachments": {},
   "cell_type": "markdown",
   "metadata": {
    "id": "r93Zxt3rIrum"
   },
   "source": [
    "## Build the application"
   ]
  },
  {
   "attachments": {},
   "cell_type": "markdown",
   "metadata": {
    "id": "uV9WkffSkwtK"
   },
   "source": [
    "With the model now ready to use in the application, we need to generate some test data to use in the model. To do this we create two functions, `write_input_headerfile` which writes an example input array to a headerfile and `write_output_headerfile` which writes the expected output array to the headerfile."
   ]
  },
  {
   "cell_type": "code",
   "execution_count": 82,
   "metadata": {
    "id": "SYiiG831BwRh"
   },
   "outputs": [],
   "source": [
    "def write_input_headerfile(array):\n",
    "  with open(\"input_data.h\", \"w\") as f:\n",
    "    line = \"#ifndef INPUT_DATA_H\\n#define INPUT_DATA_H\\n\\n\"\n",
    "    f.write(line)\n",
    "    line = f\"static const int input_data_len = {len(array)};\\n\"\n",
    "    f.write(line)\n",
    "    line = \"static const int8_t input_data[] = {\\n  \"\n",
    "    f.write(line)\n",
    "    count = 0\n",
    "    for val in array:\n",
    "      if (count+1)%8 == 0:\n",
    "        line = f\"{val},\\n  \"\n",
    "      else:\n",
    "        line = f\"{val}, \"\n",
    "      count += 1\n",
    "      if count == len(array):\n",
    "        line = line.replace(\",\",\"\")\n",
    "      f.write(line)\n",
    "    line = \"\\n};\\n\\n\"\n",
    "    f.write(line)\n",
    "    line = \"#endif // INPUT_DATA_H\"\n",
    "    f.write(line)\n",
    "\n",
    "  return None\n",
    "\n",
    "def write_output_headerfile(array):\n",
    "  with open(\"expected_output_data.h\", \"w\") as f:\n",
    "    line = \"#ifndef EXPECTED_OUTPUT_DATA_H\\n#define EXPECTED_OUTPUT_DATA_H\\n\\n\"\n",
    "    f.write(line)\n",
    "    line = f\"static const int expected_output_data_len = {len(array)};\\n\"\n",
    "    f.write(line)\n",
    "    line = \"static const int8_t expected_output_data[] = {\\n  \"\n",
    "    f.write(line)\n",
    "    count = 0\n",
    "    for val in array:\n",
    "      if (count+1)%8 ==0:\n",
    "        line = f\"{val},\\n  \"\n",
    "      else:\n",
    "        line = f\"{val}, \"\n",
    "      count += 1\n",
    "      if count == len(array):\n",
    "        line = line.replace(\",\",\"\")\n",
    "      f.write(line)\n",
    "\n",
    "    line = \"\\n};\\n\\n\"\n",
    "    f.write(line)\n",
    "    line = \"#endif // EXPECTED_OUTPUT_DATA_H\"\n",
    "    f.write(line)\n",
    "\n",
    "  return None"
   ]
  },
  {
   "attachments": {},
   "cell_type": "markdown",
   "metadata": {
    "id": "l8fTiaEQlGWu"
   },
   "source": [
    "Let's take an input from a test set for use in the application:"
   ]
  },
  {
   "cell_type": "code",
   "execution_count": 83,
   "metadata": {
    "id": "DbE-ckxzTuiL"
   },
   "outputs": [],
   "source": [
    "# Load the model into tflite\n",
    "tflite_model = tf.lite.Interpreter(\"my_model.tflite\")\n",
    "\n",
    "# Get the input and output information from the model\n",
    "input_details = tflite_model.get_input_details()\n",
    "input_scale, input_zero_point = input_details[0][\"quantization\"]\n",
    "output_details = tflite_model.get_output_details()\n",
    "\n",
    "# Unbatch the test dataset\n",
    "ds_test = ds_test.unbatch()\n",
    "\n",
    "# Take one example from the test set\n",
    "for x,y in ds_test.batch(1).take(1):\n",
    "  # Convert the input to a numpy array\n",
    "  x_numpy = x.numpy()\n",
    "  # Quantize the input data into int8 format\n",
    "  x_numpy = x_numpy / input_scale + input_zero_point\n",
    "  x_numpy = x_numpy.astype(input_details[0][\"dtype\"])\n",
    "  # Write the array to a headerfile\n",
    "  write_input_headerfile(x_numpy.flatten())\n",
    "\n",
    "  # Run the model to get the expected output\n",
    "  tflite_model.allocate_tensors()\n",
    "  #tflite_model.set_tensor(input_details[0]['index'], np.expand_dims(x_numpy,axis=0))\n",
    "  tflite_model.set_tensor(input_details[0]['index'], x_numpy)\n",
    "  tflite_model.invoke()\n",
    "\n",
    "  # Get the output array from the model\n",
    "  output_data = tflite_model.get_tensor(output_details[0][\"index\"])\n",
    "  # Write the headerfile for the expected output\n",
    "  write_output_headerfile(output_data.flatten())\n",
    "\n",
    "  break"
   ]
  },
  {
   "cell_type": "code",
   "execution_count": 84,
   "metadata": {
    "colab": {
     "base_uri": "https://localhost:8080/"
    },
    "id": "eAhQhxdYEuUg",
    "outputId": "c731d555-8f34-4f97-a9f6-68f2f74b3bc2"
   },
   "outputs": [
    {
     "name": "stdout",
     "output_type": "stream",
     "text": [
      "Overwriting main.cpp\n"
     ]
    }
   ],
   "source": [
    "%%writefile main.cpp\n",
    "\n",
    "#include \"tensorflow/lite/micro/micro_error_reporter.h\"\n",
    "#include \"tensorflow/lite/micro/micro_interpreter.h\"\n",
    "#include \"tensorflow/lite/micro/micro_utils.h\"\n",
    "#include \"tensorflow/lite/micro/testing/micro_test.h\"\n",
    "#include \"tensorflow/lite/schema/schema_generated.h\"\n",
    "#include \"tensorflow/lite/micro/micro_mutable_op_resolver.h\"\n",
    "\n",
    "#include \"my_network_model.h\"\n",
    "#include \"input_data.h\"\n",
    "#include \"expected_output_data.h\"\n",
    "\n",
    "#define TENSOR_ARENA_SIZE (70 * 1024)\n",
    "\n",
    "uint8_t tensor_arena[TENSOR_ARENA_SIZE];\n",
    "\n",
    "TF_LITE_MICRO_TESTS_BEGIN\n",
    "\n",
    "TF_LITE_MICRO_TEST(TestInvoke) {\n",
    "  \n",
    "  tflite::MicroErrorReporter micro_error_reporter;\n",
    "  // load the model\n",
    "  const tflite::Model* model = ::tflite::GetModel(network_model);\n",
    "  if (model->version() != TFLITE_SCHEMA_VERSION) {\n",
    "    TF_LITE_REPORT_ERROR(&micro_error_reporter,\n",
    "                         \"Model provided is schema version %d not equal \"\n",
    "                         \"to supported version %d.\\n\",\n",
    "                         model->version(), TFLITE_SCHEMA_VERSION);\n",
    "    return kTfLiteError;\n",
    "  }\n",
    "\n",
    "  TF_LITE_REPORT_ERROR(&micro_error_reporter, \"Hello TFLITE Micro Tests.\\n\");\n",
    "  tflite::MicroMutableOpResolver<1> micro_op_resolver;\n",
    "  //tell tensorflow micro to add ethos-u operator   \n",
    "  micro_op_resolver.AddEthosU();\n",
    "\n",
    "  tflite::MicroInterpreter interpreter(\n",
    "      model, micro_op_resolver, tensor_arena, TENSOR_ARENA_SIZE, &micro_error_reporter);\n",
    "\n",
    "  TfLiteStatus allocate_status = interpreter.AllocateTensors();\n",
    "  if (allocate_status != kTfLiteOk) {\n",
    "    TF_LITE_REPORT_ERROR(&micro_error_reporter, \"Tensor allocation failed\\n\");\n",
    "    return kTfLiteError;\n",
    "  }\n",
    "\n",
    "  TfLiteTensor* input = interpreter.input(0);\n",
    "  TfLiteTensor* output = interpreter.output(0);\n",
    "\n",
    "  memcpy(input->data.int8, &input_data, input->bytes);\n",
    "\n",
    "  TfLiteStatus invoke_status = interpreter.Invoke();\n",
    "\n",
    "  if (invoke_status != kTfLiteOk) {\n",
    "    TF_LITE_REPORT_ERROR(&micro_error_reporter, \"Invoke failed\\n\");\n",
    "      return kTfLiteError;\n",
    "  }\n",
    "  TF_LITE_MICRO_EXPECT_EQ(kTfLiteOk, invoke_status);\n",
    "\n",
    "  for (int i=0; i < expected_output_data_len; i++) {\n",
    "    TF_LITE_MICRO_EXPECT_EQ(output->data.int8[i], expected_output_data[i]);\n",
    "  }\n",
    "\n",
    "}\n",
    "\n",
    "TF_LITE_MICRO_TESTS_END"
   ]
  },
  {
   "attachments": {},
   "cell_type": "markdown",
   "metadata": {},
   "source": [
    "## Setup environment\n",
    "\n",
    " Open the 'Explorer' view (ctrl-shift-e) and select the file 'vcpkg-configuration.json'. This file instructs [Microsoft vcpkg](https://github.com/microsoft/vcpkg-tool#vcpkg-artifacts) to install the prerequisite artifacts required for building the solution.\n",
    "  - ctools 1.7.0  [CMSIS-Toolbox](https://github.com/Open-CMSIS-Pack/devtools/blob/main/tools/projmgr/docs/Manual/Overview.md)\n",
    "  - cmake 3.25.2\n",
    "  - ninja 1.10.2\n",
    "  - arm-none-eabi-gcc 10.3.1-2021.10 (GNU Arm Embedded Toolchain 10.3.1)"
   ]
  },
  {
   "cell_type": "code",
   "execution_count": 85,
   "metadata": {},
   "outputs": [
    {
     "name": "stderr",
     "output_type": "stream",
     "text": [
      "UsageError: Line magic function `%vcpkg` not found.\n"
     ]
    }
   ],
   "source": [
    "%vcpkg activate ."
   ]
  },
  {
   "attachments": {},
   "cell_type": "markdown",
   "metadata": {},
   "source": [
    "# COMMAND LINE BUILD FROM HERE "
   ]
  },
  {
   "attachments": {},
   "cell_type": "markdown",
   "metadata": {},
   "source": [
    "Install packs"
   ]
  },
  {
   "cell_type": "code",
   "execution_count": 86,
   "metadata": {},
   "outputs": [
    {
     "name": "stdout",
     "output_type": "stream",
     "text": [
      "I: Using pack root: \"/Users/mather01/.cache/arm/packs\" (default mode - no specific CMSIS_PACK_ROOT chosen)\n",
      "I: Updating public index\n",
      "I: Downloading index.pidx...\n",
      "I: 100% |██████████████████████████████████████| (103/103 kB, 298 kB/s)        \n",
      "I: Updating PDSC files of installed packs referenced in index.pidx\n",
      "W: The pack APEXMIC::APM32F00x_DFP is no longer present in the updated index.pidx\n",
      "I: ARM::Arm-2D can be upgraded from \"1.1.0-preview1\" to \"1.1.3\"\n",
      "I: ARM::CMSIS-FreeRTOS can be upgraded from \"10.4.6\" to \"10.5.1\"\n",
      "I: ARM::V2M_MPS3_SSE_310_BSP can be upgraded from \"1.0.0\" to \"1.2.0\"\n",
      "W: The pack ARM::ethos-u-core-driver is no longer present in the updated index.pidx\n",
      "I: ARM::mbedClient can be upgraded from \"1.1.0\" to \"1.1.1\"\n",
      "I: ARM::mbedCrypto can be upgraded from \"3.0.1\" to \"3.0.2\"\n",
      "I: ARM::minar can be upgraded from \"1.0.0\" to \"1.0.1\"\n",
      "I: Downloading ARM.mbedCrypto.pdsc...\n",
      "⠋ I: ( 0 B) [0s] I: Downloading ARM.CMSIS-FreeRTOS.pdsc...\n",
      "I: Downloading ARM.minar.pdsc...\n",
      "I: 100% |███████████████████████████████████████| (7.9/7.9 kB, 19 MB/s)        \n",
      "I:   0% |                                                | ( 0 B/90 kB) [0s:0s]I: AWS::AWS_IoT_Device_Defender can be upgraded from \"4.0.0\" to \"4.1.0\"\n",
      "I: AWS::AWS_IoT_Device_Shadow can be upgraded from \"4.0.0\" to \"5.0.0\"\n",
      "I: AWS::AWS_IoT_Jobs can be upgraded from \"4.0.0\" to \"4.1.0\"\n",
      "I: Downloading ARM.Arm-2D.pdsc...\n",
      "I:   0% |                                                | ( 0 B/26 kB) [0s:0s]I: AWS::AWS_IoT_Over-the-air_Update can be upgraded from \"4.0.1\" to \"5.0.0\"\n",
      "I: AWS::FreeRTOS-Plus-TCP can be upgraded from \"4.0.1\" to \"5.0.0\"\n",
      "I: Downloading ARM.mbedClient.pdsc...\n",
      "I: 100% |█████████████████████████████████████████| (19/19 kB, 58 MB/s)        \n",
      "I: AWS::FreeRTOS_LTS can be upgraded from \"2021.0.1\" to \"2022.0.0\"\n",
      "I: 100% |████████████████████████████████████████| (26/26 kB, 144 kB/s)        \n",
      "I: Downloading ARM.V2M_MPS3_SSE_310_BSP.pdsc...\n",
      "I: 100% |████████████████████████████████████████| (90/90 kB, 256 kB/s)        \n",
      "I: 100% |████████████████████████████████████████| (33/33 kB, 183 kB/s)        \n",
      "I: Downloading AWS.AWS_IoT_Device_Defender.pdsc...\n",
      "I: Downloading AWS.AWS_IoT_Device_Shadow.pdsc...\n",
      "I: 100% |██████████████████████████████████████| (1.4/1.4 kB, 3.1 MB/s)        \n",
      "I: Downloading AWS.AWS_IoT_Jobs.pdsc...\n",
      "I: 100% |██████████████████████████████████████| (1.4/1.4 kB, 708 kB/s)        \n",
      "I: 100% |██████████████████████████████████████| (1.3/1.3 kB, 738 kB/s)\n",
      "I: Downloading AWS.FreeRTOS_LTS.pdsc...\n",
      "I: 100% |██████████████████████████████████████| (2.4/2.4 kB, 9.6 MB/s)        \n",
      "I: AWS::backoffAlgorithm can be upgraded from \"4.0.0\" to \"4.1.0\"\n",
      "I: AWS::coreHTTP can be upgraded from \"4.0.0\" to \"5.0.0\"\n",
      "I: AWS::coreJSON can be upgraded from \"4.0.0\" to \"4.1.0\"\n",
      "I: Downloading AWS.FreeRTOS-Plus-TCP.pdsc...\n",
      "I: AWS::coreMQTT can be upgraded from \"4.0.0\" to \"5.0.0\"\n",
      "I: Downloading AWS.AWS_IoT_Over-the-air_Update.pdsc...\n",
      "I: 100% |███████████████████████████████████████| (7.9/7.9 kB, 16 MB/s)        \n",
      "I: AWS::coreMQTT_Agent can be upgraded from \"4.0.0\" to \"5.0.0\"\n",
      "I: AWS::corePKCS11 can be upgraded from \"4.0.1\" to \"5.0.0\"\n",
      "I: 100% |████████████████████████████████████████| (27/27 kB, 145 kB/s)        \n",
      "I: Downloading AWS.coreHTTP.pdsc...\n",
      "I: 100% |██████████████████████████████████████| (1.7/1.7 kB, 6.6 MB/s)        \n",
      "I: Downloading AWS.backoffAlgorithm.pdsc...\n",
      "I: 100% |██████████████████████████████████████| (1.5/1.5 kB, 7.2 MB/s)        \n",
      "I: Downloading AWS.coreJSON.pdsc...\n",
      "I: 100% |██████████████████████████████████████| (1.3/1.3 kB, 6.5 MB/s)        \n",
      "I: Downloading AWS.coreMQTT_Agent.pdsc...\n",
      "I: 100% |███████████████████████████████████████| (1.8/1.8 kB, 10 MB/s)        \n",
      "I: Downloading AWS.coreMQTT.pdsc...\n",
      "I: 100% |██████████████████████████████████████| (1.5/1.5 kB, 9.8 MB/s)        \n",
      "I: Downloading AWS.corePKCS11.pdsc...\n",
      "I: 100% |███████████████████████████████████████| (5.8/5.8 kB, 20 MB/s)        \n",
      "W: The pack Active-Semi::PAC52XX is no longer present in the updated index.pidx\n",
      "W: The pack AnalogDevices::ADI-BleSoftware is no longer present in the updated index.pidx\n",
      "W: The pack AnalogDevices::ADI-SensorSoftware is no longer present in the updated index.pidx\n",
      "W: The pack AnalogDevices::ADI-WifiSoftware is no longer present in the updated index.pidx\n",
      "I: AnalogDevices::ADuCM302x_DFP can be upgraded from \"3.2.0\" to \"3.2.1\"\n",
      "W: The pack AnalogDevices::ADuCM302x_EZ_KIT_BSP is no longer present in the updated index.pidx\n",
      "W: The pack AnalogDevices::ADuCM4x50_EZ_KIT_BSP is no longer present in the updated index.pidx\n",
      "W: The pack AnalogDevices::CM41x_M0_DFP is no longer present in the updated index.pidx\n",
      "W: The pack AnalogDevices::CM41x_M4_DFP is no longer present in the updated index.pidx\n",
      "W: The pack AnalogDevices::CM4xx_DFP is no longer present in the updated index.pidx\n",
      "I: AnalogDevices::EV-COG-AD3029LZ_BSP can be upgraded from \"3.1.0\" to \"3.1.1\"\n",
      "I: AnalogDevices::EV-COG-AD4050LZ_BSP can be upgraded from \"3.1.0\" to \"3.1.1\"\n",
      "W: The pack AnalogDevices::EVAL-ADICUP3029_BSP is no longer present in the updated index.pidx\n",
      "I: Arm::ethos-u-core-driver can be upgraded from \"1.22.02\" to \"1.22.8\"\n",
      "I: Arm::ethos-u-core-driver can be upgraded from \"1.22.5-rc4\" to \"1.22.8\"\n",
      "W: The pack Atmel::SAM3A_DFP is no longer present in the updated index.pidx\n",
      "W: The pack Atmel::SAM3N_DFP is no longer present in the updated index.pidx\n",
      "W: The pack Atmel::SAM3S_DFP is no longer present in the updated index.pidx\n",
      "W: The pack Atmel::SAM3U_DFP is no longer present in the updated index.pidx\n",
      "W: The pack Atmel::SAM3X_DFP is no longer present in the updated index.pidx\n",
      "W: The pack Atmel::SAMR21_DFP is no longer present in the updated index.pidx\n",
      "W: The pack Atmel::SAMS70_DFP is no longer present in the updated index.pidx\n",
      "W: The pack Atmel::SAMV70_DFP is no longer present in the updated index.pidx\n",
      "W: The pack Atmel::SAMV71_DFP is no longer present in the updated index.pidx\n",
      "W: The pack AutoChips::AC780x_DFP is no longer present in the updated index.pidx\n",
      "W: The pack AutoChips::AC781x_DFP is no longer present in the updated index.pidx\n",
      "I: Brainchip::AKD1000_DeviceFamilyPack can be upgraded from \"1.0.2\" to \"1.0.3\"\n",
      "I: Downloading Brainchip.AKD1000_DeviceFamilyPack.pdsc...\n",
      "I:   0% |                                                | ( 0 B/12 kB) [0s:0s]I: Downloading AnalogDevices.ADuCM302x_DFP.pdsc...\n",
      "I: 100% |████████████████████████████████████████| (27/27 kB, 1.6 MB/s)        \n",
      "I: Downloading AnalogDevices.EV-COG-AD4050LZ_BSP.pdsc...\n",
      "I: 100% |█████████████████████████████████████████| (15/15 kB, 88 MB/s)        \n",
      "I: 100% |████████████████████████████████████████| (12/12 kB, 489 kB/s)        \n",
      "I: Cesanta::Mongoose can be upgraded from \"7.5.0\" to \"7.8.0\"\n",
      "I: Downloading AnalogDevices.EV-COG-AD3029LZ_BSP.pdsc...\n",
      "I: 100% |█████████████████████████████████████████| (16/16 kB, 90 MB/s)        \n",
      "I: Cmsemicon::BAT32G135-A can be upgraded from \"0.1.0\" to \"1.0.0\"\n",
      "I: Cmsemicon::BAT32G135-S can be upgraded from \"0.2.0\" to \"1.0.0\"\n",
      "I: Cmsemicon::BAT32G135 can be upgraded from \"0.2.1\" to \"1.0.0\"\n",
      "I: Cmsemicon::BAT32G137-A can be upgraded from \"2.1.0\" to \"3.0.1\"\n",
      "I: Cmsemicon::BAT32G137 can be upgraded from \"3.0.3\" to \"3.0.4\"\n",
      "I: Downloading Cesanta.Mongoose.pdsc...\n",
      "I: 100% |██████████████████████████████████████| (1.4/1.4 kB, 7.9 MB/s)        \n",
      "I: Downloading Arm.ethos-u-core-driver.pdsc...\n",
      "I: 100% |███████████████████████████████████████| (3.5/3.5 kB, 11 MB/s)        \n",
      "I: Downloading Arm.ethos-u-core-driver.pdsc...\n",
      "I: 100% |██████████████████████████████████████| (3.5/3.5 kB, 5.9 MB/s)        \n",
      "I: Downloading Cmsemicon.BAT32G137-A.pdsc...\n",
      "I: 100% |██████████████████████████████████████| (8.1/8.1 kB, 3.4 MB/s)        \n",
      "I: Downloading Cmsemicon.BAT32G135-S.pdsc...\n",
      "I: 100% |██████████████████████████████████████| (6.2/6.2 kB, 3.8 MB/s)        \n",
      "I: Downloading Cmsemicon.BAT32G135.pdsc...\n",
      "I:   0% |                                                | ( 0 B/10 kB) [0s:0s]I: Downloading Cmsemicon.BAT32G137.pdsc...\n",
      "I: 100% |████████████████████████████████████████| (10/10 kB, 1.4 MB/s)        \n",
      "I: 100% |████████████████████████████████████████| (11/11 kB, 3.6 MB/s)        \n",
      "I: Cmsemicon::BAT32G139 can be upgraded from \"0.13.0\" to \"1.0.0\"\n",
      "I: Cmsemicon::BAT32G157 can be upgraded from \"0.12.0\" to \"1.0.4\"\n",
      "I: Cmsemicon::BAT32G179 can be upgraded from \"0.7.0\" to \"1.0.0\"\n",
      "I: Cmsemicon::BAT32WB35 can be upgraded from \"0.1.1\" to \"0.1.2\"\n",
      "I: Cmsemicon::CMS32-Series can be upgraded from \"1.0.3\" to \"1.0.8\"\n",
      "I: Cmsemicon::CMS32L051-S can be upgraded from \"1.0.0\" to \"1.3.0\"\n",
      "E: bad status: 404 Not Found\n",
      "E: Could not download \"http://www.mcu.com.cn/Cmsemicon.BAT32G135-A.pdsc\": bad request\n",
      "E: the URL for the pack pdsc file seems not to exist or it didn't return the file\n",
      "I: Downloading Cmsemicon.BAT32G157.pdsc...\n",
      "I: 100% |██████████████████████████████████████| (7.7/7.7 kB, 2.0 MB/s)        \n",
      "I: Downloading Cmsemicon.BAT32G139.pdsc...\n",
      "I: 100% |████████████████████████████████████████| (10/10 kB, 3.7 MB/s)        \n",
      "I: Downloading Cmsemicon.BAT32G179.pdsc...\n",
      "I: 100% |██████████████████████████████████████| (9.6/9.6 kB, 1.6 MB/s)        \n",
      "I: Downloading Cmsemicon.CMS32-Series.pdsc...\n",
      "I:   0% |                                                | ( 0 B/44 kB) [0s:0s]I: Downloading Cmsemicon.BAT32WB35.pdsc...\n",
      "I: 100% |██████████████████████████████████████| (6.3/6.3 kB, 2.2 MB/s)        \n",
      "I: Downloading Cmsemicon.CMS32L051-S.pdsc...\n",
      "I: 100% |██████████████████████████████████████| (6.9/6.9 kB, 6.0 MB/s)        \n",
      "I: Cmsemicon::CMS32L051 can be upgraded from \"1.0.0\" to \"1.4.0\"\n",
      "W: The pack DialogSemiconductor::DA145xx_DFP is no longer present in the updated index.pidx\n",
      "W: The pack ELAN::eWD720_DFP is no longer present in the updated index.pidx\n",
      "I: Geehy::APM32F4xx_DFP can be upgraded from \"1.0.0\" to \"1.0.3\"\n",
      "I: GigaDevice::GD32E50x_DFP can be upgraded from \"1.3.1\" to \"1.3.2\"\n",
      "I: GigaDevice::GD32F10x_DFP can be upgraded from \"2.0.2\" to \"2.0.3\"\n",
      "I: GigaDevice::GD32W51x_DFP can be upgraded from \"1.0.1\" to \"1.0.3\"\n",
      "W: The pack Goodix::GMF0x is no longer present in the updated index.pidx\n",
      "W: The pack Goodix::GR551x is no longer present in the updated index.pidx\n",
      "I: Holtek::HT32_DFP can be upgraded from \"1.0.41\" to \"1.0.45\"\n",
      "I: 100% |█████████████████████████████████████████| (44/44 kB, 66 kB/s)        \n",
      "I: Downloading Cmsemicon.CMS32L051.pdsc...\n",
      "I: 100% |█████████████████████████████████████████| (12/12 kB, 25 MB/s)        \n",
      "I: Downloading Holtek.HT32_DFP.pdsc...\n",
      "I:  26% |██████████                             | (96/368 kB, 191 kB/s) [0s:1s]I: Downloading Geehy.APM32F4xx_DFP.pdsc...\n",
      "I: 100% |██████████████████████████████████████| (368/368 kB, 528 kB/s)        \n",
      "I: Holtek::HT32_DFP can be upgraded from \"1.0.46\" to \"1.0.45\"\n",
      "I: Infineon::PSoC6_DFP can be upgraded from \"1.3.0\" to \"1.4.0\"\n",
      "I: Infineon::TLE987x_DFP can be upgraded from \"1.5.2\" to \"1.6.0\"\n",
      "I: Downloading GigaDevice.GD32E50x_DFP.pdsc...\n",
      "I:   0% |                                                | ( 0 B/43 kB) [0s:0s]I: Keil::IMXRT1050-EVKB_BSP can be upgraded from \"1.0.1\" to \"1.1.1\"\n",
      "I: Downloading Infineon.TLE987x_DFP.pdsc...\n",
      "I:   0% |                                               | ( 0 B/125 kB) [0s:0s]I: Keil::LPC4000_DFP can be upgraded from \"2.2.1\" to \"2.2.2\"\n",
      "I: Keil::LPC4300_DFP can be upgraded from \"2.10.0\" to \"2.10.1\"\n",
      "I: Downloading GigaDevice.GD32W51x_DFP.pdsc...\n",
      "I: 100% |██████████████████████████████████████| (125/125 kB, 3.9 MB/s)        \n",
      "I: 100% |████████████████████████████████████████| (70/70 kB, 208 kB/s)        \n",
      "I: Downloading Infineon.PSoC6_DFP.pdsc...\n",
      "I:  37% |███████████████                          | (16/43 kB, 52 kB/s) [0s:0s]I: Downloading Keil.IMXRT1050-EVKB_BSP.pdsc...\n",
      "I: 100% |████████████████████████████████████████| (43/43 kB, 136 kB/s)        \n",
      "I: 100% |█████████████████████████████████████████| (33/33 kB, 97 kB/s)        \n",
      "I: Downloading Holtek.HT32_DFP.pdsc...\n",
      "I:   4% |█                                       | (16/368 kB, 94 kB/s) [0s:3s]I: Downloading Keil.LPC4300_DFP.pdsc...\n",
      "I:  13% |█████                                  | (48/368 kB, 139 kB/s) [0s:2s]I: Downloading Keil.LPC4000_DFP.pdsc...\n",
      "I:  26% |██████████                             | (96/368 kB, 187 kB/s) [0s:1s]I: Downloading GigaDevice.GD32F10x_DFP.pdsc...\n",
      "I: 100% |████████████████████████████████████████| (54/54 kB, 310 kB/s)        \n",
      "I: 100% |██████████████████████████████████████| (368/368 kB, 527 kB/s)        \n",
      "I: 100% |██████████████████████████████████████| (128/128 kB, 251 kB/s)        \n",
      "I: Keil::MDK-Middleware can be upgraded from \"7.15.0\" to \"7.16.0\"\n",
      "I: Keil::MDK-Middleware_Graphics can be upgraded from \"1.1.0\" to \"1.2.0\"\n",
      "I: Keil::MIMXRT1064-EVK_BSP can be upgraded from \"1.2.1\" to \"1.3.1\"\n",
      "I:  16% |██████                                   | (16/97 kB, 51 kB/s) [0s:1s]I: Keil::STM32F1xx_DFP can be upgraded from \"2.4.0\" to \"2.4.1\"\n",
      "I: Keil::STM32F4xx_DFP can be upgraded from \"2.16.0\" to \"2.17.0\"\n",
      "I: Keil::STM32F7xx_DFP can be upgraded from \"2.15.0\" to \"2.15.1\"\n",
      "I: Downloading Keil.MIMXRT1064-EVK_BSP.pdsc...\n",
      "I:  32% |█████████████                            | (32/97 kB, 51 kB/s) [0s:1s]I: Downloading Keil.MDK-Middleware_Graphics.pdsc...\n",
      "I:   0% |                                                | ( 0 B/58 kB) [0s:0s]I: Downloading Keil.MDK-Middleware.pdsc...\n",
      "I:  49% |████████████████████                     | (48/97 kB, 38 kB/s) [1s:1s]I: Downloading Keil.STM32F4xx_DFP.pdsc...\n",
      "I: 100% |████████████████████████████████████████| (58/58 kB, 338 kB/s)        \n",
      "I: Downloading Keil.STM32F7xx_DFP.pdsc...\n",
      "I:   6% |██                                      | (16/234 kB, 91 kB/s) [0s:2s]I: Downloading Keil.STM32F1xx_DFP.pdsc...\n",
      "I: 100% |█████████████████████████████████████████| (97/97 kB, 61 kB/s)        \n",
      "I: 100% |██████████████████████████████████████| (234/234 kB, 434 kB/s)        \n",
      "I: 100% |██████████████████████████████████████| (206/206 kB, 384 kB/s)        \n",
      "I: 100% |██████████████████████████████████████| (350/350 kB, 506 kB/s)        \n",
      "I: 100% |██████████████████████████████████████| (424/424 kB, 588 kB/s)        \n",
      "I: Keil::STM32H7xx_DFP can be upgraded from \"3.0.0\" to \"3.1.0\"\n",
      "I: Keil::STM32L4xx_DFP can be upgraded from \"2.6.1\" to \"2.6.2\"\n",
      "I: Keil::STM32NUCLEO_BSP can be upgraded from \"1.8.0\" to \"1.8.1\"\n",
      "I: Keil::STM32U5xx_DFP can be upgraded from \"2.0.0\" to \"2.1.0\"\n",
      "I: Keil::STM32WBxx_DFP can be upgraded from \"1.2.0\" to \"1.3.0\"\n",
      "I: Keil::iMXRT105x_MWP can be upgraded from \"1.5.0\" to \"1.5.1\"\n",
      "I: Downloading Keil.STM32H7xx_DFP.pdsc...\n",
      "I:   0% |                                               | ( 0 B/349 kB) [0s:0s]I: Downloading Keil.iMXRT105x_MWP.pdsc...\n",
      "I:   0% |                                                | ( 0 B/32 kB) [0s:0s]I: Downloading Keil.STM32NUCLEO_BSP.pdsc...\n",
      "I: Downloading Keil.STM32L4xx_DFP.pdsc...\n",
      "I:   0% |                                               | ( 0 B/349 kB) [0s:0s]I: Downloading Keil.STM32U5xx_DFP.pdsc...\n",
      "I:   0% |                                               | ( 0 B/234 kB) [0s:0s]I: Downloading Keil.STM32WBxx_DFP.pdsc...\n",
      "I: 100% |████████████████████████████████████████| (32/32 kB, 183 kB/s)        \n",
      "I: 100% |████████████████████████████████████████| (54/54 kB, 312 kB/s)        \n",
      "I: Keil::iMXRT1060_MWP can be upgraded from \"1.3.0\" to \"1.3.1\"\n",
      "I:   4% |█                                       | (16/349 kB, 90 kB/s) [0s:3s]I: Keil::iMXRT1064_MWP can be upgraded from \"1.5.0\" to \"1.5.1\"\n",
      "I:   6% |██                                      | (16/234 kB, 89 kB/s) [0s:2s]I: LVGL::lvgl can be upgraded from \"1.0.8\" to \"9.0.0-dev\"\n",
      "I: LVGL::lvgl can be upgraded from \"1.0.9-alpha\" to \"9.0.0-dev\"\n",
      "I: LVGL::lvgl can be upgraded from \"8.3.6\" to \"9.0.0-dev\"\n",
      "I:  13% |█████                                  | (48/349 kB, 141 kB/s) [0s:2s]I: Maxim::MAX32665 can be upgraded from \"0.6.7\" to \"1.1.0\"\n",
      "I: Downloading LVGL.lvgl.pdsc...\n",
      "⠋ I: ( 0 B) [0s] E: open /Users/mather01/.cache/arm/packs/.Download/LVGL.lvgl.pdsc: permission denied\n",
      "E: Could not download \"https://raw.githubusercontent.com/lvgl/lvgl/master/env_support/cmsis-pack/LVGL.lvgl.pdsc\": failed to create a local file\n",
      "E: the URL for the pack pdsc file seems not to exist or it didn't return the file\n",
      "I: Downloading LVGL.lvgl.pdsc...\n",
      "I: 100% |████████████████████████████████████████| (72/72 kB, 215 kB/s)        \n",
      "I: 100% |██████████████████████████████████████| (234/234 kB, 434 kB/s)        \n",
      "I: 100% |██████████████████████████████████████| (349/349 kB, 499 kB/s)        \n",
      "I: Downloading Maxim.MAX32665.pdsc...\n",
      "I: 100% |██████████████████████████████████████| (349/349 kB, 487 kB/s)        \n",
      "I: 100% |████████████████████████████████████████| (76/76 kB, 357 kB/s)        \n",
      "I: Maxim::MAX32672 can be upgraded from \"1.4.1\" to \"1.6.0\"\n",
      "I: Maxim::MAX32675 can be upgraded from \"1.0.3\" to \"1.3.0\"\n",
      "I: Maxim::MAX32690 can be upgraded from \"1.0.1\" to \"1.2.1\"\n",
      "I: Maxim::MAX32690 can be upgraded from \"1.2.2\" to \"1.2.1\"\n",
      "W: The pack MediaTek::MTx is no longer present in the updated index.pidx\n",
      "I: Megawin::CM0_DFP can be upgraded from \"3.2.2\" to \"3.7.0\"\n",
      "I: Megawin::CM0_DFP can be upgraded from \"4.1.0\" to \"3.7.0\"\n",
      "I: Downloading Keil.iMXRT1060_MWP.pdsc...\n",
      "I:   0% |                                                | ( 0 B/22 kB) [0s:0s]I: Downloading Keil.iMXRT1064_MWP.pdsc...\n",
      "I:   0% |                                                | ( 0 B/22 kB) [0s:0s]I: Downloading Maxim.MAX32675.pdsc...\n",
      "I:  36% |██████████████                          | (16/44 kB, 152 kB/s) [0s:0s]I: Downloading Maxim.MAX32672.pdsc...\n",
      "I:   0% |                                                | ( 0 B/48 kB) [0s:0s]I: Downloading Maxim.MAX32690.pdsc...\n",
      "I:   0% |                                               | ( 0 B/146 kB) [0s:0s]I: Downloading Maxim.MAX32690.pdsc...\n",
      "I: 100% |████████████████████████████████████████| (22/22 kB, 124 kB/s)        \n",
      "I: 100% |████████████████████████████████████████| (22/22 kB, 125 kB/s)        \n",
      "I: 100% |████████████████████████████████████████| (44/44 kB, 208 kB/s)        \n",
      "I: 100% |████████████████████████████████████████| (48/48 kB, 234 kB/s)        \n",
      "I:  24% |█████████                              | (36/146 kB, 177 kB/s) [0s:0s]I: Downloading Megawin.CM0_DFP.pdsc...\n",
      "I:   0% |                                               | ( 0 B/461 kB) [0s:0s]I: Downloading Megawin.CM0_DFP.pdsc...\n",
      "I: 100% |██████████████████████████████████████| (146/146 kB, 454 kB/s)        \n",
      "I: 100% |██████████████████████████████████████| (146/146 kB, 456 kB/s)        \n",
      "E: Can't move file \"/Users/mather01/.cache/arm/packs/.Download/Maxim.MAX32690.pdsc\" to \"/Users/mather01/.cache/arm/packs/.Web/Maxim.MAX32690.pdsc\": rename /Users/mather01/.cache/arm/packs/.Download/Maxim.MAX32690.pdsc /Users/mather01/.cache/arm/packs/.Web/Maxim.MAX32690.pdsc: no such file or directory\n",
      "E: rename /Users/mather01/.cache/arm/packs/.Download/Maxim.MAX32690.pdsc /Users/mather01/.cache/arm/packs/.Web/Maxim.MAX32690.pdsc: no such file or directory\n",
      "I: 100% |██████████████████████████████████████| (461/461 kB, 155 kB/s)        \n",
      "I: Microchip::PIC32CM-LE_DFP can be upgraded from \"1.1.162\" to \"1.2.273\"\n",
      "I: Microchip::PIC32CM-LS_DFP can be upgraded from \"1.1.162\" to \"1.2.274\"\n",
      "I:  99% |█████████████████████████████████████ | (459/461 kB, 136 kB/s) [3s:0s]I: Microchip::SAMD51_DFP can be upgraded from \"3.6.120\" to \"3.7.237\"\n",
      "I: Microchip::SAME51_DFP can be upgraded from \"3.6.130\" to \"3.7.242\"\n",
      "I: Microchip::SAME70_DFP can be upgraded from \"4.9.129\" to \"4.10.248\"\n",
      "I: Microchip::SAMG_DFP can be upgraded from \"3.7.83\" to \"3.8.197\"\n",
      "I: Downloading Microchip.PIC32CM-LE_DFP.pdsc...\n",
      "⠋ I: ( 0 B) [0s] I: Downloading Microchip.PIC32CM-LS_DFP.pdsc...\n",
      "⠋ I: ( 0 B) [0s] I: Downloading Microchip.SAMD51_DFP.pdsc...\n",
      "⠋ I: ( 0 B) [0s] I: Downloading Microchip.SAME51_DFP.pdsc...\n",
      "⠋ I: ( 0 B) [0s] I: Downloading Microchip.SAME70_DFP.pdsc...\n",
      "I: 100% |██████████████████████████████████████| (461/461 kB, 143 kB/s)        \n",
      "I: Downloading Microchip.SAMG_DFP.pdsc...\n",
      "⠋ I: ( 0 B) [0s] E: Can't move file \"/Users/mather01/.cache/arm/packs/.Download/Megawin.CM0_DFP.pdsc\" to \"/Users/mather01/.cache/arm/packs/.Web/Megawin.CM0_DFP.pdsc\": rename /Users/mather01/.cache/arm/packs/.Download/Megawin.CM0_DFP.pdsc /Users/mather01/.cache/arm/packs/.Web/Megawin.CM0_DFP.pdsc: no such file or directory\n",
      "E: rename /Users/mather01/.cache/arm/packs/.Download/Megawin.CM0_DFP.pdsc /Users/mather01/.cache/arm/packs/.Web/Megawin.CM0_DFP.pdsc: no such file or directory\n",
      "I: Microchip::SAML10_DFP can be upgraded from \"3.9.116\" to \"3.10.228\"\n",
      "I: Microchip::SAML11_DFP can be upgraded from \"4.4.149\" to \"4.5.268\"\n",
      "I: Microchip::SAML21_DFP can be upgraded from \"3.6.105\" to \"3.7.217\"\n",
      "I: Microchip::SAMS70_DFP can be upgraded from \"4.9.103\" to \"4.10.214\"\n",
      "I: Microchip::SAMV70_DFP can be upgraded from \"4.9.100\" to \"4.10.212\"\n",
      "I: Microchip::SAMV71_DFP can be upgraded from \"4.9.117\" to \"4.10.230\"\n",
      "I: Downloading Microchip.SAML10_DFP.pdsc...\n",
      "⠋ I: ( 0 B) [0s] I: Downloading Microchip.SAML11_DFP.pdsc...\n",
      "⠋ I: ( 0 B) [0s] I: Downloading Microchip.SAML21_DFP.pdsc...\n",
      "⠋ I: ( 0 B) [0s] I: Downloading Microchip.SAMS70_DFP.pdsc...\n",
      "⠋ I: ( 0 B) [0s] I: Downloading Microchip.SAMV70_DFP.pdsc...\n",
      "⠋ I: ( 0 B) [0s] I: Downloading Microchip.SAMV71_DFP.pdsc...\n",
      "⠋ I: ( 0 B) [0s] W: The pack MindMotion::MM32x031_DFP is no longer present in the updated index.pidx\n",
      "W: The pack MindMotion::MM32x103_DFP is no longer present in the updated index.pidx\n",
      "I: NXP::EVK-MIMXRT1010_BSP can be upgraded from \"15.0.1\" to \"16.0.0\"\n",
      "I: NXP::EVK-MIMXRT1015_BSP can be upgraded from \"15.0.1\" to \"16.0.0\"\n",
      "I: NXP::EVK-MIMXRT1020_BSP can be upgraded from \"15.0.1\" to \"16.0.0\"\n",
      "I: NXP::EVK-MIMXRT1060_BSP can be upgraded from \"15.0.1\" to \"16.1.0\"\n",
      "I: NXP::EVK-MIMXRT1064_BSP can be upgraded from \"15.0.1\" to \"16.0.0\"\n",
      "I: NXP::EVK-MIMXRT595_BSP can be upgraded from \"15.0.1\" to \"16.1.0\"\n",
      "I: Downloading NXP.EVK-MIMXRT1064_BSP.pdsc...\n",
      "⠙ I: (36 kB, 331 kB/s) [0s] I: Downloading NXP.EVK-MIMXRT1015_BSP.pdsc...\n",
      "⠋ I: ( 0 B) [0s] I: Downloading NXP.EVK-MIMXRT1020_BSP.pdsc...\n",
      "⠋ I: ( 0 B) [0s] I: Downloading NXP.EVK-MIMXRT1010_BSP.pdsc...\n",
      "⠋ I: ( 0 B) [0s] I: Downloading NXP.EVK-MIMXRT1060_BSP.pdsc...\n",
      "⠙ I: (68 kB, 555 kB/s) [0s] I: Downloading NXP.EVK-MIMXRT595_BSP.pdsc...\n",
      "⠙ I: (68 kB, 554 kB/s) [0s] I: NXP::EVK-MIMXRT685_BSP can be upgraded from \"15.0.1\" to \"16.0.0\"\n",
      "I: NXP::EVKB-IMXRT1050_BSP can be upgraded from \"15.0.1\" to \"16.0.0\"\n",
      "I: NXP::FRDM-K22F_BSP can be upgraded from \"15.0.1\" to \"16.1.0\"\n",
      "I: NXP::FRDM-K32L2A4S_BSP can be upgraded from \"15.0.1\" to \"16.0.0\"\n",
      "I: NXP::FRDM-K32L2B_BSP can be upgraded from \"15.0.1\" to \"16.0.0\"\n",
      "I: NXP::FRDM-K32L3A6_BSP can be upgraded from \"15.0.1\" to \"16.0.0\"\n",
      "I: Downloading NXP.EVK-MIMXRT685_BSP.pdsc...\n",
      "⠋ I: ( 0 B) [0s] I: Downloading NXP.EVKB-IMXRT1050_BSP.pdsc...\n",
      "⠋ I: ( 0 B) [0s] I: Downloading NXP.FRDM-K22F_BSP.pdsc...\n",
      "⠋ I: ( 0 B) [0s] I: Downloading NXP.FRDM-K32L2B_BSP.pdsc...\n",
      "I: Downloading NXP.FRDM-K32L2A4S_BSP.pdsc...\n",
      "⠋ I: ( 0 B) [0s] I: Downloading NXP.FRDM-K32L3A6_BSP.pdsc...\n",
      "⠙ I: (68 kB, 509 kB/s) [0s] I: NXP::FRDM-KE02Z40M_BSP can be upgraded from \"15.0.1\" to \"16.0.0\"\n",
      "I: NXP::FRDM-KE15Z_BSP can be upgraded from \"15.0.1\" to \"16.0.0\"\n",
      "I: NXP::FRDM-KE16Z_BSP can be upgraded from \"15.0.1\" to \"16.0.0\"\n",
      "I: NXP::FRDM-KE17Z_BSP can be upgraded from \"15.0.1\" to \"16.0.0\"\n",
      "I: NXP::FRDM-KV11Z_BSP can be upgraded from \"15.0.1\" to \"16.0.0\"\n",
      "I: NXP::FRDM-KV31F_BSP can be upgraded from \"15.0.1\" to \"16.0.0\"\n",
      "I: Downloading NXP.FRDM-KE15Z_BSP.pdsc...\n",
      "⠋ I: ( 0 B) [0s] I: Downloading NXP.FRDM-KE16Z_BSP.pdsc...\n",
      "I: Downloading NXP.FRDM-KV11Z_BSP.pdsc...\n",
      "⠋ I: ( 0 B) [0s] I: Downloading NXP.FRDM-KV31F_BSP.pdsc...\n",
      "⠋ I: ( 0 B) [0s] I: Downloading NXP.FRDM-KE02Z40M_BSP.pdsc...\n",
      "⠋ I: ( 0 B) [0s] I: NXP::HVP-KV11Z75M_BSP can be upgraded from \"15.0.1\" to \"16.0.0\"\n",
      "I: NXP::HVP-KV31F120M_BSP can be upgraded from \"15.0.1\" to \"16.0.0\"\n",
      "I: NXP::K32L2A31A_DFP can be upgraded from \"15.0.0\" to \"16.0.0\"\n",
      "I: NXP::K32L2A41A_DFP can be upgraded from \"15.0.0\" to \"16.0.0\"\n",
      "I: NXP::K32L2B11A_DFP can be upgraded from \"15.0.0\" to \"16.0.0\"\n",
      "I: NXP::K32L2B21A_DFP can be upgraded from \"15.0.0\" to \"16.0.0\"\n",
      "I: Downloading NXP.FRDM-KE17Z_BSP.pdsc...\n",
      "⠋ I: ( 0 B) [0s] I: Downloading NXP.HVP-KV11Z75M_BSP.pdsc...\n",
      "⠋ I: ( 0 B) [0s] I: Downloading NXP.HVP-KV31F120M_BSP.pdsc...\n",
      "⠋ I: ( 0 B) [0s] I: Downloading NXP.K32L2A31A_DFP.pdsc...\n",
      "⠋ I: ( 0 B) [0s] I: Downloading NXP.K32L2B11A_DFP.pdsc...\n",
      "⠋ I: ( 0 B) [0s] I: Downloading NXP.K32L2A41A_DFP.pdsc...\n",
      "⠋ I: ( 0 B) [0s] I: Downloading NXP.K32L2B21A_DFP.pdsc...\n",
      "⠋ I: ( 0 B) [0s] I: NXP::K32L2B31A_DFP can be upgraded from \"15.0.0\" to \"16.0.0\"\n",
      "I: NXP::K32L3A60_DFP can be upgraded from \"15.0.0\" to \"16.0.0\"\n",
      "I: NXP::LPC51U68_DFP can be upgraded from \"15.0.0\" to \"16.0.0\"\n",
      "I: NXP::LPC54005_DFP can be upgraded from \"15.0.0\" to \"16.0.0\"\n",
      "I: NXP::LPC54016_DFP can be upgraded from \"15.0.0\" to \"16.0.0\"\n",
      "I: NXP::LPC54018M_DFP can be upgraded from \"15.0.0\" to \"16.0.0\"\n",
      "I: Downloading NXP.K32L2B31A_DFP.pdsc...\n",
      "⠋ I: ( 0 B) [0s] I: Downloading NXP.K32L3A60_DFP.pdsc...\n",
      "⠋ I: ( 0 B) [0s] I: Downloading NXP.LPC51U68_DFP.pdsc...\n",
      "⠋ I: ( 0 B) [0s] I: Downloading NXP.LPC54016_DFP.pdsc...\n",
      "⠋ I: ( 0 B) [0s] I: Downloading NXP.LPC54005_DFP.pdsc...\n",
      "⠋ I: ( 0 B) [0s] I: Downloading NXP.LPC54018M_DFP.pdsc...\n",
      "⠋ I: ( 0 B) [0s] I: NXP::LPC54018_DFP can be upgraded from \"15.0.0\" to \"16.0.0\"\n",
      "I: NXP::LPC54605_DFP can be upgraded from \"15.0.0\" to \"16.0.0\"\n",
      "I: NXP::LPC54606_DFP can be upgraded from \"15.0.0\" to \"16.0.0\"\n",
      "I: NXP::LPC54607_DFP can be upgraded from \"15.0.0\" to \"16.0.0\"\n",
      "I: NXP::LPC54608_DFP can be upgraded from \"15.0.0\" to \"16.0.0\"\n",
      "I: NXP::LPC54616_DFP can be upgraded from \"15.0.0\" to \"16.0.0\"\n",
      "I: Downloading NXP.LPC54018_DFP.pdsc...\n",
      "⠋ I: ( 0 B) [0s] I: Downloading NXP.LPC54605_DFP.pdsc...\n",
      "⠋ I: ( 0 B) [0s] I: Downloading NXP.LPC54606_DFP.pdsc...\n",
      "⠋ I: ( 0 B) [0s] I: Downloading NXP.LPC54607_DFP.pdsc...\n",
      "⠋ I: ( 0 B) [0s] I: Downloading NXP.LPC54608_DFP.pdsc...\n",
      "⠋ I: ( 0 B) [0s] I: Downloading NXP.LPC54616_DFP.pdsc...\n",
      "⠋ I: ( 0 B) [0s] I: NXP::LPC54618_DFP can be upgraded from \"15.0.0\" to \"16.0.0\"\n",
      "I: NXP::LPC54628_DFP can be upgraded from \"15.0.0\" to \"16.0.0\"\n",
      "I: NXP::LPC54S005_DFP can be upgraded from \"15.0.0\" to \"16.0.0\"\n",
      "I: NXP::LPC54S016_DFP can be upgraded from \"15.0.0\" to \"16.0.0\"\n",
      "I: NXP::LPC54S018M_DFP can be upgraded from \"15.0.0\" to \"16.0.0\"\n",
      "I: NXP::LPC54S018_DFP can be upgraded from \"15.0.0\" to \"16.0.0\"\n",
      "I: Downloading NXP.LPC54618_DFP.pdsc...\n",
      "⠋ I: ( 0 B) [0s] I: Downloading NXP.LPC54628_DFP.pdsc...\n",
      "⠋ I: ( 0 B) [0s] I: Downloading NXP.LPC54S018M_DFP.pdsc...\n",
      "I: Downloading NXP.LPC54S016_DFP.pdsc...\n",
      "I: Downloading NXP.LPC54S018_DFP.pdsc...\n",
      "⠋ I: ( 0 B) [0s] I: NXP::LPC5502_DFP can be upgraded from \"15.0.0\" to \"16.0.0\"\n",
      "I: NXP::LPC5504_DFP can be upgraded from \"15.0.0\" to \"16.0.0\"\n",
      "I: NXP::LPC5506_DFP can be upgraded from \"15.0.0\" to \"16.0.0\"\n",
      "I: NXP::LPC5512_DFP can be upgraded from \"15.0.0\" to \"16.0.0\"\n",
      "I: NXP::LPC5514_DFP can be upgraded from \"15.0.0\" to \"16.0.0\"\n",
      "I: NXP::LPC5516_DFP can be upgraded from \"15.0.0\" to \"16.0.0\"\n",
      "I: Downloading NXP.LPC54S005_DFP.pdsc...\n",
      "⠋ I: ( 0 B) [0s] I: Downloading NXP.LPC5502_DFP.pdsc...\n",
      "⠋ I: ( 0 B) [0s] I: Downloading NXP.LPC5512_DFP.pdsc...\n",
      "⠋ I: ( 0 B) [0s] I: Downloading NXP.LPC5506_DFP.pdsc...\n",
      "⠋ I: ( 0 B) [0s] I: Downloading NXP.LPC5514_DFP.pdsc...\n",
      "⠋ I: ( 0 B) [0s] I: Downloading NXP.LPC5516_DFP.pdsc...\n",
      "⠋ I: ( 0 B) [0s] I: NXP::LPC5526_DFP can be upgraded from \"15.0.0\" to \"16.0.0\"\n",
      "I: NXP::LPC5528_DFP can be upgraded from \"15.0.0\" to \"16.0.0\"\n",
      "I: NXP::LPC55S04_DFP can be upgraded from \"15.0.0\" to \"16.0.0\"\n",
      "I: NXP::LPC55S06_DFP can be upgraded from \"15.0.0\" to \"16.0.0\"\n",
      "I: NXP::LPC55S14_DFP can be upgraded from \"15.0.0\" to \"16.0.0\"\n",
      "I: NXP::LPC55S16_DFP can be upgraded from \"15.0.0\" to \"16.0.0\"\n",
      "I: Downloading NXP.LPC5504_DFP.pdsc...\n",
      "⠋ I: ( 0 B) [0s] I: Downloading NXP.LPC5526_DFP.pdsc...\n",
      "⠋ I: ( 0 B) [0s] I: Downloading NXP.LPC55S04_DFP.pdsc...\n",
      "⠋ I: ( 0 B) [0s] I: Downloading NXP.LPC5528_DFP.pdsc...\n",
      "⠋ I: ( 0 B) [0s] I: Downloading NXP.LPC55S14_DFP.pdsc...\n",
      "⠋ I: ( 0 B) [0s] I: Downloading NXP.LPC55S06_DFP.pdsc...\n",
      "I: Downloading NXP.LPC55S16_DFP.pdsc...\n",
      "⠋ I: ( 0 B) [0s] I: NXP::LPC55S26_DFP can be upgraded from \"15.0.0\" to \"16.0.0\"\n",
      "I: NXP::LPC55S28_DFP can be upgraded from \"15.0.0\" to \"16.0.0\"\n",
      "I: NXP::LPC55S66_DFP can be upgraded from \"15.0.0\" to \"16.1.0\"\n",
      "I: NXP::LPC55S69_DFP can be upgraded from \"15.0.0\" to \"16.1.0\"\n",
      "I: NXP::LPC802_DFP can be upgraded from \"15.0.0\" to \"16.0.0\"\n",
      "I: NXP::LPC804_DFP can be upgraded from \"15.0.0\" to \"16.0.0\"\n",
      "I: Downloading NXP.LPC55S28_DFP.pdsc...\n",
      "⠋ I: ( 0 B) [0s] I: Downloading NXP.LPC55S66_DFP.pdsc...\n",
      "⠋ I: ( 0 B) [0s] I: Downloading NXP.LPC55S69_DFP.pdsc...\n",
      "⠋ I: ( 0 B) [0s] I: Downloading NXP.LPC804_DFP.pdsc...\n",
      "⠋ I: ( 0 B) [0s] I: NXP::LPC822_DFP can be upgraded from \"15.0.0\" to \"16.0.0\"\n",
      "I: NXP::LPC824_DFP can be upgraded from \"15.0.0\" to \"16.0.0\"\n",
      "I: NXP::LPC832_DFP can be upgraded from \"15.0.0\" to \"16.0.0\"\n",
      "I: Downloading NXP.LPC55S26_DFP.pdsc...\n",
      "⠋ I: ( 0 B) [0s] I: NXP::LPC834_DFP can be upgraded from \"15.0.0\" to \"16.0.0\"\n",
      "I: NXP::LPC844_DFP can be upgraded from \"15.0.0\" to \"16.0.0\"\n",
      "I: NXP::LPC845BREAKOUT_BSP can be upgraded from \"15.0.1\" to \"16.0.0\"\n",
      "I: Downloading NXP.LPC802_DFP.pdsc...\n",
      "⠋ I: ( 0 B) [0s] I: Downloading NXP.LPC822_DFP.pdsc...\n",
      "⠋ I: ( 0 B) [0s] I: Downloading NXP.LPC824_DFP.pdsc...\n",
      "⠋ I: ( 0 B) [0s] I: Downloading NXP.LPC844_DFP.pdsc...\n",
      "⠋ I: ( 0 B) [0s] I: Downloading NXP.LPC832_DFP.pdsc...\n",
      "⠋ I: ( 0 B) [0s] I: Downloading NXP.LPC834_DFP.pdsc...\n",
      "⠋ I: ( 0 B) [0s] I: Downloading NXP.LPC845BREAKOUT_BSP.pdsc...\n",
      "⠋ I: ( 0 B) [0s] I: NXP::LPC845_DFP can be upgraded from \"15.0.0\" to \"16.0.0\"\n",
      "I: NXP::LPCXpresso51U68_BSP can be upgraded from \"15.0.1\" to \"16.0.0\"\n",
      "I: NXP::LPCXpresso54628_BSP can be upgraded from \"15.0.1\" to \"16.0.0\"\n",
      "I: NXP::LPCXpresso54S018M_BSP can be upgraded from \"15.0.1\" to \"16.0.0\"\n",
      "I: NXP::LPCXpresso54S018_BSP can be upgraded from \"15.0.1\" to \"16.0.0\"\n",
      "I: NXP::LPCXpresso55S06_BSP can be upgraded from \"15.0.1\" to \"16.0.0\"\n",
      "I: Downloading NXP.LPC845_DFP.pdsc...\n",
      "⠋ I: ( 0 B) [0s] I: Downloading NXP.LPCXpresso54628_BSP.pdsc...\n",
      "⠋ I: ( 0 B) [0s] I: Downloading NXP.LPCXpresso54S018M_BSP.pdsc...\n",
      "⠋ I: ( 0 B) [0s] I: Downloading NXP.LPCXpresso55S06_BSP.pdsc...\n",
      "⠋ I: ( 0 B) [0s] I: Downloading NXP.LPCXpresso54S018_BSP.pdsc...\n",
      "I: Downloading NXP.LPCXpresso51U68_BSP.pdsc...\n",
      "⠋ I: ( 0 B) [0s] I: NXP::LPCXpresso55S16_BSP can be upgraded from \"15.0.1\" to \"16.0.0\"\n",
      "I: NXP::LPCXpresso55S28_BSP can be upgraded from \"15.0.1\" to \"16.0.0\"\n",
      "I: NXP::LPCXpresso55S69_BSP can be upgraded from \"15.0.1\" to \"16.1.0\"\n",
      "I: NXP::LPCXpresso802_BSP can be upgraded from \"15.0.1\" to \"16.0.0\"\n",
      "I: NXP::LPCXpresso804_BSP can be upgraded from \"15.0.1\" to \"16.0.0\"\n",
      "I: NXP::LPCXpresso824MAX_BSP can be upgraded from \"15.0.1\" to \"16.0.0\"\n",
      "I: Downloading NXP.LPCXpresso55S16_BSP.pdsc...\n",
      "⠋ I: ( 0 B) [0s] I: Downloading NXP.LPCXpresso55S28_BSP.pdsc...\n",
      "⠋ I: ( 0 B) [0s] I: Downloading NXP.LPCXpresso55S69_BSP.pdsc...\n",
      "⠋ I: ( 0 B) [0s] I: Downloading NXP.LPCXpresso802_BSP.pdsc...\n",
      "⠋ I: ( 0 B) [0s] I: Downloading NXP.LPCXpresso824MAX_BSP.pdsc...\n",
      "⠋ I: ( 0 B) [0s] I: NXP::LPCXpresso845MAX_BSP can be upgraded from \"15.0.1\" to \"16.0.0\"\n",
      "I: NXP::MIMXRT1011_DFP can be upgraded from \"15.0.0\" to \"16.0.0\"\n",
      "I: Downloading NXP.LPCXpresso804_BSP.pdsc...\n",
      "⠋ I: ( 0 B) [0s] I: NXP::MIMXRT1015_DFP can be upgraded from \"15.0.0\" to \"16.0.0\"\n",
      "I: NXP::MIMXRT1021_DFP can be upgraded from \"15.0.0\" to \"16.0.0\"\n",
      "I: NXP::MIMXRT1024-EVK_BSP can be upgraded from \"15.0.1\" to \"16.0.0\"\n",
      "I: NXP::MIMXRT1024_DFP can be upgraded from \"15.0.0\" to \"16.0.0\"\n",
      "I: Downloading NXP.LPCXpresso845MAX_BSP.pdsc...\n",
      "I: Downloading NXP.MIMXRT1011_DFP.pdsc...\n",
      "⠋ I: ( 0 B) [0s] I: Downloading NXP.MIMXRT1015_DFP.pdsc...\n",
      "⠋ I: ( 0 B) [0s] I: Downloading NXP.MIMXRT1024-EVK_BSP.pdsc...\n",
      "⠋ I: ( 0 B) [0s] I: Downloading NXP.MIMXRT1024_DFP.pdsc...\n",
      "⠋ I: ( 0 B) [0s] I: NXP::MIMXRT1051_DFP can be upgraded from \"15.0.0\" to \"16.0.0\"\n",
      "I: Downloading NXP.MIMXRT1021_DFP.pdsc...\n",
      "⠋ I: ( 0 B) [0s] I: NXP::MIMXRT1052_DFP can be upgraded from \"15.0.0\" to \"16.0.0\"\n",
      "I: NXP::MIMXRT1060-EVKB_BSP can be upgraded from \"15.0.1\" to \"16.1.0\"\n",
      "I: NXP::MIMXRT1061_DFP can be upgraded from \"15.0.0\" to \"16.0.0\"\n",
      "I: NXP::MIMXRT1062_DFP can be upgraded from \"15.0.0\" to \"16.1.0\"\n",
      "I: NXP::MIMXRT1064_DFP can be upgraded from \"15.0.0\" to \"16.0.0\"\n",
      "I: Downloading NXP.MIMXRT1051_DFP.pdsc...\n",
      "⠋ I: ( 0 B) [0s] I: Downloading NXP.MIMXRT1052_DFP.pdsc...\n",
      "⠋ I: ( 0 B) [0s] I: Downloading NXP.MIMXRT1060-EVKB_BSP.pdsc...\n",
      "⠋ I: ( 0 B) [0s] I: Downloading NXP.MIMXRT1062_DFP.pdsc...\n",
      "I: Downloading NXP.MIMXRT1064_DFP.pdsc...\n",
      "⠋ I: ( 0 B) [0s] I: Downloading NXP.MIMXRT1061_DFP.pdsc...\n",
      "⠋ I: ( 0 B) [0s] I: NXP::MIMXRT1160-EVK_BSP can be upgraded from \"15.0.1\" to \"16.0.0\"\n",
      "I: NXP::MIMXRT1165_DFP can be upgraded from \"15.0.0\" to \"16.0.0\"\n",
      "I: NXP::MIMXRT1166_DFP can be upgraded from \"15.0.0\" to \"16.0.0\"\n",
      "I: NXP::MIMXRT1170-EVK_BSP can be upgraded from \"15.0.1\" to \"16.1.0\"\n",
      "I: NXP::MIMXRT1171_DFP can be upgraded from \"14.0.0\" to \"16.0.0\"\n",
      "I: NXP::MIMXRT1172_DFP can be upgraded from \"14.0.0\" to \"16.0.0\"\n",
      "I: Downloading NXP.MIMXRT1171_DFP.pdsc...\n",
      "⠋ I: ( 0 B) [0s] I: Downloading NXP.MIMXRT1166_DFP.pdsc...\n",
      "⠋ I: ( 0 B) [0s] I: Downloading NXP.MIMXRT1165_DFP.pdsc...\n",
      "⠋ I: ( 0 B) [0s] I: Downloading NXP.MIMXRT1170-EVK_BSP.pdsc...\n",
      "⠋ I: ( 0 B) [0s] I: Downloading NXP.MIMXRT1172_DFP.pdsc...\n",
      "⠋ I: ( 0 B) [0s] I: NXP::MIMXRT1173_DFP can be upgraded from \"14.0.0\" to \"16.0.0\"\n",
      "I: NXP::MIMXRT1175_DFP can be upgraded from \"14.0.0\" to \"16.0.0\"\n",
      "I: NXP::MIMXRT1176_DFP can be upgraded from \"15.0.0\" to \"16.1.0\"\n",
      "I: NXP::MIMXRT533S_DFP can be upgraded from \"15.0.0\" to \"16.0.0\"\n",
      "I: Downloading NXP.MIMXRT1160-EVK_BSP.pdsc...\n",
      "⠋ I: ( 0 B) [0s] I: NXP::MIMXRT555S_DFP can be upgraded from \"15.0.0\" to \"16.0.0\"\n",
      "I: NXP::MIMXRT595S_DFP can be upgraded from \"15.0.0\" to \"16.1.0\"\n",
      "I: Downloading NXP.MIMXRT1173_DFP.pdsc...\n",
      "⠋ I: ( 0 B) [0s] I: Downloading NXP.MIMXRT1175_DFP.pdsc...\n",
      "⠋ I: ( 0 B) [0s] I: Downloading NXP.MIMXRT533S_DFP.pdsc...\n",
      "⠋ I: ( 0 B) [0s] I: Downloading NXP.MIMXRT1176_DFP.pdsc...\n",
      "⠋ I: ( 0 B) [0s] I: Downloading NXP.MIMXRT595S_DFP.pdsc...\n",
      "⠋ I: ( 0 B) [0s] I: NXP::MIMXRT633S_DFP can be upgraded from \"15.0.0\" to \"16.0.0\"\n",
      "I: NXP::MIMXRT685-AUD-EVK_BSP can be upgraded from \"15.0.1\" to \"16.0.0\"\n",
      "I: NXP::MIMXRT685S_DFP can be upgraded from \"15.0.0\" to \"16.0.0\"\n",
      "I: NXP::MK02F12810_DFP can be upgraded from \"15.0.0\" to \"16.0.0\"\n",
      "I: NXP::MK22F12810_DFP can be upgraded from \"15.0.0\" to \"16.0.0\"\n",
      "I: NXP::MK22F25612_DFP can be upgraded from \"15.0.0\" to \"16.0.0\"\n",
      "I: Downloading NXP.MIMXRT555S_DFP.pdsc...\n",
      "⠋ I: ( 0 B) [0s] I: Downloading NXP.MIMXRT633S_DFP.pdsc...\n",
      "⠋ I: ( 0 B) [0s] I: Downloading NXP.MIMXRT685-AUD-EVK_BSP.pdsc...\n",
      "⠋ I: ( 0 B) [0s] I: Downloading NXP.MIMXRT685S_DFP.pdsc...\n",
      "⠋ I: ( 0 B) [0s] I: Downloading NXP.MK02F12810_DFP.pdsc...\n",
      "⠋ I: ( 0 B) [0s] I: Downloading NXP.MK22F25612_DFP.pdsc...\n",
      "⠋ I: ( 0 B) [0s] I: NXP::MK22F51212_DFP can be upgraded from \"15.0.0\" to \"16.1.0\"\n",
      "I: NXP::MKE02Z4_DFP can be upgraded from \"15.0.0\" to \"16.0.0\"\n",
      "I: Downloading NXP.MK22F12810_DFP.pdsc...\n",
      "⠋ I: ( 0 B) [0s] I: NXP::MKE12Z7_DFP can be upgraded from \"15.0.0\" to \"16.0.0\"\n",
      "I: NXP::MKE13Z7_DFP can be upgraded from \"15.0.0\" to \"16.0.0\"\n",
      "I: NXP::MKE14Z4_DFP can be upgraded from \"15.0.0\" to \"16.0.0\"\n",
      "I: NXP::MKE14Z7_DFP can be upgraded from \"15.0.0\" to \"16.0.0\"\n",
      "I: Downloading NXP.MK22F51212_DFP.pdsc...\n",
      "⠋ I: ( 0 B) [0s] I: Downloading NXP.MKE02Z4_DFP.pdsc...\n",
      "⠋ I: ( 0 B) [0s] I: Downloading NXP.MKE13Z7_DFP.pdsc...\n",
      "⠋ I: ( 0 B) [0s] I: Downloading NXP.MKE12Z7_DFP.pdsc...\n",
      "⠋ I: ( 0 B) [0s] I: Downloading NXP.MKE14Z7_DFP.pdsc...\n",
      "⠋ I: ( 0 B) [0s] I: NXP::MKE15Z4_DFP can be upgraded from \"15.0.0\" to \"16.0.0\"\n",
      "I: Downloading NXP.MKE14Z4_DFP.pdsc...\n",
      "⠋ I: ( 0 B) [0s] I: NXP::MKE15Z7_DFP can be upgraded from \"15.0.0\" to \"16.0.0\"\n",
      "I: NXP::MKE16Z4_DFP can be upgraded from \"15.0.0\" to \"16.0.0\"\n",
      "I: NXP::MKE17Z7_DFP can be upgraded from \"15.0.0\" to \"16.0.0\"\n",
      "I: NXP::MKM14ZA5_DFP can be upgraded from \"15.0.0\" to \"16.0.0\"\n",
      "I: NXP::MKM33ZA5_DFP can be upgraded from \"15.0.0\" to \"16.0.0\"\n",
      "I: Downloading NXP.MKE15Z7_DFP.pdsc...\n",
      "⠋ I: ( 0 B) [0s] I: Downloading NXP.MKM14ZA5_DFP.pdsc...\n",
      "⠋ I: ( 0 B) [0s] I: Downloading NXP.MKE15Z4_DFP.pdsc...\n",
      "⠋ I: ( 0 B) [0s] I: Downloading NXP.MKE17Z7_DFP.pdsc...\n",
      "⠋ I: ( 0 B) [0s] I: Downloading NXP.MKM33ZA5_DFP.pdsc...\n",
      "⠋ I: ( 0 B) [0s] I: NXP::MKM34Z7_DFP can be upgraded from \"15.0.0\" to \"16.0.0\"\n",
      "I: NXP::MKM34ZA5_DFP can be upgraded from \"15.0.0\" to \"16.0.0\"\n",
      "I: Downloading NXP.MKE16Z4_DFP.pdsc...\n",
      "⠋ I: ( 0 B) [0s] I: NXP::MKM35Z7_DFP can be upgraded from \"15.0.0\" to \"16.0.0\"\n",
      "I: NXP::MKV10Z1287_DFP can be upgraded from \"15.0.0\" to \"16.0.0\"\n",
      "I: NXP::MKV10Z7_DFP can be upgraded from \"15.0.0\" to \"16.0.0\"\n",
      "I: NXP::MKV11Z7_DFP can be upgraded from \"15.0.0\" to \"16.0.0\"\n",
      "I: Downloading NXP.MKM34Z7_DFP.pdsc...\n",
      "I: Downloading NXP.MKM34ZA5_DFP.pdsc...\n",
      "⠋ I: ( 0 B) [0s] I: Downloading NXP.MKM35Z7_DFP.pdsc...\n",
      "⠋ I: ( 0 B) [0s] I: Downloading NXP.MKV10Z1287_DFP.pdsc...\n",
      "⠋ I: ( 0 B) [0s] I: Downloading NXP.MKV10Z7_DFP.pdsc...\n",
      "⠋ I: ( 0 B) [0s] I: Downloading NXP.MKV11Z7_DFP.pdsc...\n",
      "⠋ I: ( 0 B) [0s] I: NXP::MKV30F12810_DFP can be upgraded from \"15.0.0\" to \"16.0.0\"\n",
      "I: NXP::MKV31F12810_DFP can be upgraded from \"15.0.0\" to \"16.0.0\"\n",
      "I: NXP::MKV31F25612_DFP can be upgraded from \"15.0.0\" to \"16.0.0\"\n",
      "I: NXP::MKV31F51212_DFP can be upgraded from \"15.0.0\" to \"16.0.0\"\n",
      "I: NXP::TWR-KM34Z50MV3_BSP can be upgraded from \"15.0.1\" to \"16.0.0\"\n",
      "I: NXP::TWR-KM34Z75M_BSP can be upgraded from \"15.0.1\" to \"16.0.0\"\n",
      "I: Downloading NXP.MKV31F12810_DFP.pdsc...\n",
      "⠋ I: ( 0 B) [0s] I: Downloading NXP.MKV30F12810_DFP.pdsc...\n",
      "⠋ I: ( 0 B) [0s] I: Downloading NXP.MKV31F25612_DFP.pdsc...\n",
      "⠋ I: ( 0 B) [0s] I: Downloading NXP.MKV31F51212_DFP.pdsc...\n",
      "⠋ I: ( 0 B) [0s] I: Downloading NXP.TWR-KM34Z75M_BSP.pdsc...\n",
      "⠋ I: ( 0 B) [0s] I: Downloading NXP.TWR-KM34Z50MV3_BSP.pdsc...\n",
      "⠋ I: ( 0 B) [0s] I: NXP::TWR-KM35Z75M_BSP can be upgraded from \"15.0.1\" to \"16.0.0\"\n",
      "I: Nuvoton::NuMicroM7_DFP can be upgraded from \"1.0.3\" to \"1.1.0\"\n",
      "I: Nuvoton::NuMicro_DFP can be upgraded from \"1.3.17\" to \"1.3.20\"\n",
      "I: Nuvoton::NuVoice_ISD_DFP can be upgraded from \"1.0.11\" to \"1.0.14\"\n",
      "I: Oryx-Embedded::Middleware can be upgraded from \"2.1.8\" to \"2.2.4\"\n",
      "I: Renesas::RA_DFP can be upgraded from \"4.0.0\" to \"4.4.0\"\n",
      "I: Downloading Oryx-Embedded.Middleware.pdsc...\n",
      "⠋ I: ( 0 B) [0s] I: Downloading NXP.TWR-KM35Z75M_BSP.pdsc...\n",
      "⠋ I: ( 0 B) [0s] I: Downloading Nuvoton.NuMicroM7_DFP.pdsc...\n",
      "⠋ I: ( 0 B) [0s] I: Downloading Nuvoton.NuMicro_DFP.pdsc...\n",
      "⠋ I: ( 0 B) [0s] I: Downloading Nuvoton.NuVoice_ISD_DFP.pdsc...\n",
      "⠋ I: ( 0 B) [0s] I: Downloading Renesas.RA_DFP.pdsc...\n",
      "I: 100% |██████████████████████████████████████| (122/122 kB, 1.6 MB/s)        \n",
      "I: SILAN::SC32F57xx_DFP can be upgraded from \"1.0.1\" to \"1.0.2\"\n",
      "W: The pack SiliconLabs::ARTIKMG1_DFP is no longer present in the updated index.pidx\n",
      "W: The pack SiliconLabs::BGM1_DFP is no longer present in the updated index.pidx\n",
      "I: SiliconLabs::GeckoPlatform_BGM13_DFP can be upgraded from \"4.1.1\" to \"4.2.0\"\n",
      "I: SiliconLabs::GeckoPlatform_BGM1_DFP can be upgraded from \"4.1.0\" to \"4.2.0\"\n",
      "I: SiliconLabs::GeckoPlatform_BGM21_DFP can be upgraded from \"4.1.0\" to \"4.2.0\"\n",
      "I: SiliconLabs::GeckoPlatform_BGM22_DFP can be upgraded from \"4.1.1\" to \"4.2.0\"\n",
      "I: SiliconLabs::GeckoPlatform_BGM24_DFP can be upgraded from \"4.1.1\" to \"4.2.0\"\n",
      "I: Downloading SiliconLabs.GeckoPlatform_BGM24_DFP.pdsc...\n",
      "⠋ I: ( 0 B) [0s] I: Downloading SiliconLabs.GeckoPlatform_BGM21_DFP.pdsc...\n",
      "⠋ I: ( 0 B) [0s] I: SiliconLabs::GeckoPlatform_EFM32GG11B_DFP can be upgraded from \"4.1.0\" to \"4.2.0\"\n",
      "I: Downloading SiliconLabs.GeckoPlatform_BGM1_DFP.pdsc...\n",
      "I: Downloading SiliconLabs.GeckoPlatform_BGM22_DFP.pdsc...\n",
      "⠋ I: ( 0 B) [0s] I: SiliconLabs::GeckoPlatform_EFM32GG12B_DFP can be upgraded from \"4.1.0\" to \"4.2.0\"\n",
      "I: Downloading SiliconLabs.GeckoPlatform_BGM13_DFP.pdsc...\n",
      "⠋ I: ( 0 B) [0s] I: SiliconLabs::GeckoPlatform_EFM32GG_DFP can be upgraded from \"4.1.0\" to \"4.2.0\"\n",
      "I: SiliconLabs::GeckoPlatform_EFM32G_DFP can be upgraded from \"4.1.0\" to \"4.2.0\"\n",
      "I: SiliconLabs::GeckoPlatform_EFM32HG_DFP can be upgraded from \"4.1.0\" to \"4.2.0\"\n",
      "I: SiliconLabs::GeckoPlatform_EFM32JG12B_DFP can be upgraded from \"4.1.0\" to \"4.2.0\"\n",
      "I: Downloading SILAN.SC32F57xx_DFP.pdsc...\n",
      "⠋ I: ( 0 B) [0s] I: Downloading SiliconLabs.GeckoPlatform_EFM32GG11B_DFP.pdsc...\n",
      "⠋ I: ( 0 B) [0s] I: Downloading SiliconLabs.GeckoPlatform_EFM32GG12B_DFP.pdsc...\n",
      "⠋ I: ( 0 B) [0s] I: Downloading SiliconLabs.GeckoPlatform_EFM32G_DFP.pdsc...\n",
      "⠋ I: ( 0 B) [0s] I: Downloading SiliconLabs.GeckoPlatform_EFM32GG_DFP.pdsc...\n",
      "⠋ I: ( 0 B) [0s] I: Downloading SiliconLabs.GeckoPlatform_EFM32HG_DFP.pdsc...\n",
      "⠋ I: ( 0 B) [0s] I: Downloading SiliconLabs.GeckoPlatform_EFM32JG12B_DFP.pdsc...\n",
      "⠋ I: ( 0 B) [0s] I: SiliconLabs::GeckoPlatform_EFM32JG1B_DFP can be upgraded from \"4.1.0\" to \"4.2.0\"\n",
      "I: SiliconLabs::GeckoPlatform_EFM32LG_DFP can be upgraded from \"4.1.0\" to \"4.2.0\"\n",
      "I: SiliconLabs::GeckoPlatform_EFM32PG12B_DFP can be upgraded from \"4.1.0\" to \"4.2.0\"\n",
      "I: SiliconLabs::GeckoPlatform_EFM32PG1B_DFP can be upgraded from \"4.1.1\" to \"4.2.0\"\n",
      "I: SiliconLabs::GeckoPlatform_EFM32PG22_DFP can be upgraded from \"4.1.1\" to \"4.2.0\"\n",
      "I: SiliconLabs::GeckoPlatform_EFM32PG23_DFP can be upgraded from \"4.1.1\" to \"4.2.0\"\n",
      "I: Downloading SiliconLabs.GeckoPlatform_EFM32JG1B_DFP.pdsc...\n",
      "⠋ I: ( 0 B) [0s] I: Downloading SiliconLabs.GeckoPlatform_EFM32LG_DFP.pdsc...\n",
      "⠋ I: ( 0 B) [0s] I: Downloading SiliconLabs.GeckoPlatform_EFM32PG12B_DFP.pdsc...\n",
      "I: Downloading SiliconLabs.GeckoPlatform_EFM32PG1B_DFP.pdsc...\n",
      "⠋ I: ( 0 B) [0s] I: Downloading SiliconLabs.GeckoPlatform_EFM32PG23_DFP.pdsc...\n",
      "⠋ I: ( 0 B) [0s] I: SiliconLabs::GeckoPlatform_EFM32TG11B_DFP can be upgraded from \"4.1.0\" to \"4.2.0\"\n",
      "I: Downloading SiliconLabs.GeckoPlatform_EFM32PG22_DFP.pdsc...\n",
      "⠋ I: ( 0 B) [0s] I: SiliconLabs::GeckoPlatform_EFM32TG_DFP can be upgraded from \"4.1.0\" to \"4.2.0\"\n",
      "I: SiliconLabs::GeckoPlatform_EFM32WG_DFP can be upgraded from \"4.1.1\" to \"4.2.0\"\n",
      "I: SiliconLabs::GeckoPlatform_EFM32ZG_DFP can be upgraded from \"4.1.0\" to \"4.2.0\"\n",
      "I: SiliconLabs::GeckoPlatform_EFR32BG12P_DFP can be upgraded from \"4.1.0\" to \"4.2.0\"\n",
      "I: SiliconLabs::GeckoPlatform_EFR32BG13P_DFP can be upgraded from \"4.1.0\" to \"4.2.0\"\n",
      "I: Downloading SiliconLabs.GeckoPlatform_EFM32TG11B_DFP.pdsc...\n",
      "⠋ I: ( 0 B) [0s] I: Downloading SiliconLabs.GeckoPlatform_EFM32TG_DFP.pdsc...\n",
      "⠋ I: ( 0 B) [0s] I: Downloading SiliconLabs.GeckoPlatform_EFM32WG_DFP.pdsc...\n",
      "⠋ I: ( 0 B) [0s] I: Downloading SiliconLabs.GeckoPlatform_EFR32BG12P_DFP.pdsc...\n",
      "⠋ I: ( 0 B) [0s] I: Downloading SiliconLabs.GeckoPlatform_EFM32ZG_DFP.pdsc...\n",
      "I: Downloading SiliconLabs.GeckoPlatform_EFR32BG13P_DFP.pdsc...\n",
      "⠋ I: ( 0 B) [0s] W: The pack SiliconLabs::GeckoPlatform_EFR32BG14P_DFP is no longer present in the updated index.pidx\n",
      "I: SiliconLabs::GeckoPlatform_EFR32BG1B_DFP can be upgraded from \"4.1.1\" to \"4.2.0\"\n",
      "I: SiliconLabs::GeckoPlatform_EFR32BG1P_DFP can be upgraded from \"4.1.0\" to \"4.2.0\"\n",
      "I: SiliconLabs::GeckoPlatform_EFR32BG1V_DFP can be upgraded from \"4.1.1\" to \"4.2.0\"\n",
      "I: SiliconLabs::GeckoPlatform_EFR32BG21_DFP can be upgraded from \"4.1.0\" to \"4.2.0\"\n",
      "I: SiliconLabs::GeckoPlatform_EFR32BG22_DFP can be upgraded from \"4.1.1\" to \"4.2.0\"\n",
      "I: SiliconLabs::GeckoPlatform_EFR32BG24_DFP can be upgraded from \"4.1.1\" to \"4.2.0\"\n",
      "I: Downloading SiliconLabs.GeckoPlatform_EFR32BG1B_DFP.pdsc...\n",
      "⠋ I: ( 0 B) [0s] I: Downloading SiliconLabs.GeckoPlatform_EFR32BG1P_DFP.pdsc...\n",
      "⠋ I: ( 0 B) [0s] I: Downloading SiliconLabs.GeckoPlatform_EFR32BG1V_DFP.pdsc...\n",
      "⠋ I: ( 0 B) [0s] I: Downloading SiliconLabs.GeckoPlatform_EFR32BG21_DFP.pdsc...\n",
      "⠋ I: ( 0 B) [0s] I: Downloading SiliconLabs.GeckoPlatform_EFR32BG24_DFP.pdsc...\n",
      "⠋ I: ( 0 B) [0s] I: SiliconLabs::GeckoPlatform_EFR32BG27_DFP can be upgraded from \"4.1.1\" to \"4.2.0\"\n",
      "I: SiliconLabs::GeckoPlatform_EFR32FG12P_DFP can be upgraded from \"4.1.0\" to \"4.2.0\"\n",
      "I: SiliconLabs::GeckoPlatform_EFR32FG13P_DFP can be upgraded from \"4.1.0\" to \"4.2.0\"\n",
      "I: Downloading SiliconLabs.GeckoPlatform_EFR32BG22_DFP.pdsc...\n",
      "⠋ I: ( 0 B) [0s] I: SiliconLabs::GeckoPlatform_EFR32FG14P_DFP can be upgraded from \"4.1.0\" to \"4.2.0\"\n",
      "I: SiliconLabs::GeckoPlatform_EFR32FG14V_DFP can be upgraded from \"4.1.0\" to \"4.2.0\"\n",
      "I: SiliconLabs::GeckoPlatform_EFR32FG1P_DFP can be upgraded from \"4.1.1\" to \"4.2.0\"\n",
      "I: Downloading SiliconLabs.GeckoPlatform_EFR32FG12P_DFP.pdsc...\n",
      "⠋ I: ( 0 B) [0s] I: Downloading SiliconLabs.GeckoPlatform_EFR32BG27_DFP.pdsc...\n",
      "⠋ I: ( 0 B) [0s] I: Downloading SiliconLabs.GeckoPlatform_EFR32FG13P_DFP.pdsc...\n",
      "⠋ I: ( 0 B) [0s] I: Downloading SiliconLabs.GeckoPlatform_EFR32FG14P_DFP.pdsc...\n",
      "⠋ I: ( 0 B) [0s] I: Downloading SiliconLabs.GeckoPlatform_EFR32FG14V_DFP.pdsc...\n",
      "⠋ I: ( 0 B) [0s] I: Downloading SiliconLabs.GeckoPlatform_EFR32FG1P_DFP.pdsc...\n",
      "⠋ I: ( 0 B) [0s] I: SiliconLabs::GeckoPlatform_EFR32FG1V_DFP can be upgraded from \"4.1.0\" to \"4.2.0\"\n",
      "I: SiliconLabs::GeckoPlatform_EFR32FG22_DFP can be upgraded from \"4.1.1\" to \"4.2.0\"\n",
      "I: SiliconLabs::GeckoPlatform_EFR32FG23_DFP can be upgraded from \"4.1.1\" to \"4.2.0\"\n",
      "I: SiliconLabs::GeckoPlatform_EFR32FG25_DFP can be upgraded from \"4.1.1\" to \"4.2.0\"\n",
      "I: SiliconLabs::GeckoPlatform_EFR32MG12P_DFP can be upgraded from \"4.1.0\" to \"4.2.0\"\n",
      "I: SiliconLabs::GeckoPlatform_EFR32MG13P_DFP can be upgraded from \"4.1.0\" to \"4.2.0\"\n",
      "I: Downloading SiliconLabs.GeckoPlatform_EFR32FG1V_DFP.pdsc...\n",
      "⠋ I: ( 0 B) [0s] I: Downloading SiliconLabs.GeckoPlatform_EFR32FG23_DFP.pdsc...\n",
      "⠋ I: ( 0 B) [0s] I: Downloading SiliconLabs.GeckoPlatform_EFR32FG22_DFP.pdsc...\n",
      "⠋ I: ( 0 B) [0s] I: Downloading SiliconLabs.GeckoPlatform_EFR32MG13P_DFP.pdsc...\n",
      "⠋ I: ( 0 B) [0s] I: Downloading SiliconLabs.GeckoPlatform_EFR32FG25_DFP.pdsc...\n",
      "⠋ I: ( 0 B) [0s] I: SiliconLabs::GeckoPlatform_EFR32MG14P_DFP can be upgraded from \"4.1.0\" to \"4.2.0\"\n",
      "I: SiliconLabs::GeckoPlatform_EFR32MG1B_DFP can be upgraded from \"4.1.0\" to \"4.2.0\"\n",
      "I: SiliconLabs::GeckoPlatform_EFR32MG1P_DFP can be upgraded from \"4.1.0\" to \"4.2.0\"\n",
      "I: SiliconLabs::GeckoPlatform_EFR32MG1V_DFP can be upgraded from \"4.1.0\" to \"4.2.0\"\n",
      "I: SiliconLabs::GeckoPlatform_EFR32MG21_DFP can be upgraded from \"4.1.0\" to \"4.2.0\"\n",
      "I: SiliconLabs::GeckoPlatform_EFR32MG22_DFP can be upgraded from \"4.1.1\" to \"4.2.0\"\n",
      "I: Downloading SiliconLabs.GeckoPlatform_EFR32MG12P_DFP.pdsc...\n",
      "⠋ I: ( 0 B) [0s] I: Downloading SiliconLabs.GeckoPlatform_EFR32MG1B_DFP.pdsc...\n",
      "⠋ I: ( 0 B) [0s] I: Downloading SiliconLabs.GeckoPlatform_EFR32MG14P_DFP.pdsc...\n",
      "⠋ I: ( 0 B) [0s] I: Downloading SiliconLabs.GeckoPlatform_EFR32MG1V_DFP.pdsc...\n",
      "⠋ I: ( 0 B) [0s] I: Downloading SiliconLabs.GeckoPlatform_EFR32MG22_DFP.pdsc...\n",
      "⠋ I: ( 0 B) [0s] I: Downloading SiliconLabs.GeckoPlatform_EFR32MG1P_DFP.pdsc...\n",
      "⠋ I: ( 0 B) [0s] I: SiliconLabs::GeckoPlatform_EFR32MG24_DFP can be upgraded from \"4.1.1\" to \"4.2.0\"\n",
      "I: SiliconLabs::GeckoPlatform_EFR32MG27_DFP can be upgraded from \"4.1.1\" to \"4.2.0\"\n",
      "I: SiliconLabs::GeckoPlatform_EFR32ZG13L_DFP can be upgraded from \"4.1.1\" to \"4.2.0\"\n",
      "I: SiliconLabs::GeckoPlatform_EFR32ZG13P_DFP can be upgraded from \"4.1.0\" to \"4.2.0\"\n",
      "I: SiliconLabs::GeckoPlatform_EFR32ZG13S_DFP can be upgraded from \"4.1.1\" to \"4.2.0\"\n",
      "I: SiliconLabs::GeckoPlatform_EFR32ZG14P_DFP can be upgraded from \"4.1.0\" to \"4.2.0\"\n",
      "I: Downloading SiliconLabs.GeckoPlatform_EFR32MG21_DFP.pdsc...\n",
      "⠋ I: ( 0 B) [0s] I: Downloading SiliconLabs.GeckoPlatform_EFR32MG24_DFP.pdsc...\n",
      "⠋ I: ( 0 B) [0s] I: Downloading SiliconLabs.GeckoPlatform_EFR32MG27_DFP.pdsc...\n",
      "⠋ I: ( 0 B) [0s] I: Downloading SiliconLabs.GeckoPlatform_EFR32ZG13L_DFP.pdsc...\n",
      "⠋ I: ( 0 B) [0s] I: Downloading SiliconLabs.GeckoPlatform_EFR32ZG13P_DFP.pdsc...\n",
      "⠋ I: ( 0 B) [0s] I: Downloading SiliconLabs.GeckoPlatform_EFR32ZG14P_DFP.pdsc...\n",
      "⠋ I: ( 0 B) [0s] I: Downloading SiliconLabs.GeckoPlatform_EFR32ZG13S_DFP.pdsc...\n",
      "⠋ I: ( 0 B) [0s] I: SiliconLabs::GeckoPlatform_EFR32ZG23_DFP can be upgraded from \"4.1.1\" to \"4.2.0\"\n",
      "I: SiliconLabs::GeckoPlatform_EZR32HG_DFP can be upgraded from \"4.1.0\" to \"4.2.0\"\n",
      "I: SiliconLabs::GeckoPlatform_EZR32LG_DFP can be upgraded from \"4.1.0\" to \"4.2.0\"\n",
      "I: SiliconLabs::GeckoPlatform_EZR32WG_DFP can be upgraded from \"4.1.0\" to \"4.2.0\"\n",
      "I: SiliconLabs::GeckoPlatform_MGM12_DFP can be upgraded from \"4.1.1\" to \"4.2.0\"\n",
      "I: SiliconLabs::GeckoPlatform_MGM13_DFP can be upgraded from \"4.1.0\" to \"4.2.0\"\n",
      "I: Downloading SiliconLabs.GeckoPlatform_EFR32ZG23_DFP.pdsc...\n",
      "⠋ I: ( 0 B) [0s] I: Downloading SiliconLabs.GeckoPlatform_EZR32LG_DFP.pdsc...\n",
      "I: Downloading SiliconLabs.GeckoPlatform_EZR32HG_DFP.pdsc...\n",
      "⠋ I: ( 0 B) [0s] I: Downloading SiliconLabs.GeckoPlatform_EZR32WG_DFP.pdsc...\n",
      "⠋ I: ( 0 B) [0s] I: Downloading SiliconLabs.GeckoPlatform_MGM12_DFP.pdsc...\n",
      "⠋ I: ( 0 B) [0s] I: Downloading SiliconLabs.GeckoPlatform_MGM13_DFP.pdsc...\n",
      "⠋ I: ( 0 B) [0s] I: SiliconLabs::GeckoPlatform_MGM1_DFP can be upgraded from \"4.1.0\" to \"4.2.0\"\n",
      "I: SiliconLabs::GeckoPlatform_MGM21_DFP can be upgraded from \"4.1.0\" to \"4.2.0\"\n",
      "I: SiliconLabs::GeckoPlatform_MGM22_DFP can be upgraded from \"4.1.1\" to \"4.2.0\"\n",
      "I: SiliconLabs::GeckoPlatform_MGM24_DFP can be upgraded from \"4.1.1\" to \"4.2.0\"\n",
      "I: SiliconLabs::GeckoPlatform_WGM160_DFP can be upgraded from \"4.1.1\" to \"4.2.0\"\n",
      "I: SiliconLabs::GeckoPlatform_ZGM13_DFP can be upgraded from \"4.1.0\" to \"4.2.0\"\n",
      "I: Downloading SiliconLabs.GeckoPlatform_MGM1_DFP.pdsc...\n",
      "⠋ I: ( 0 B) [0s] I: Downloading SiliconLabs.GeckoPlatform_MGM21_DFP.pdsc...\n",
      "⠋ I: ( 0 B) [0s] I: Downloading SiliconLabs.GeckoPlatform_WGM160_DFP.pdsc...\n",
      "I: Downloading SiliconLabs.GeckoPlatform_MGM22_DFP.pdsc...\n",
      "⠋ I: ( 0 B) [0s] I: Downloading SiliconLabs.GeckoPlatform_ZGM13_DFP.pdsc...\n",
      "⠋ I: ( 0 B) [0s] I: Downloading SiliconLabs.GeckoPlatform_MGM24_DFP.pdsc...\n",
      "⠋ I: ( 0 B) [0s] I: SiliconLabs::GeckoPlatform_ZGM23_DFP can be upgraded from \"4.1.0\" to \"4.2.0\"\n",
      "I: Sinowealth::SH3xF9xx_DFP can be upgraded from \"2.1.0\" to \"2.2.0\"\n",
      "I: tensorflow::flatbuffers can be upgraded from \"1.22.02\" to \"1.22.8\"\n",
      "I: tensorflow::flatbuffers can be upgraded from \"1.22.5-rc4\" to \"1.22.8\"\n",
      "I: tensorflow::gemmlowp can be upgraded from \"1.22.02\" to \"1.22.8\"\n",
      "I: tensorflow::gemmlowp can be upgraded from \"1.22.5-rc4\" to \"1.22.8\"\n",
      "I: Downloading SiliconLabs.GeckoPlatform_ZGM23_DFP.pdsc...\n",
      "⠋ I: ( 0 B) [0s] I: Downloading tensorflow.flatbuffers.pdsc...\n",
      "I: 100% |██████████████████████████████████████| (2.4/2.4 kB, 4.5 MB/s)        \n",
      "I: Downloading tensorflow.flatbuffers.pdsc...\n",
      "I: 100% |███████████████████████████████████████| (2.4/2.4 kB, 11 MB/s)        \n",
      "I: Downloading tensorflow.gemmlowp.pdsc...\n",
      "I: 100% |██████████████████████████████████████| (2.3/2.3 kB, 2.2 MB/s)        \n",
      "I: Downloading tensorflow.gemmlowp.pdsc...\n",
      "I: 100% |███████████████████████████████████████| (2.3/2.3 kB, 19 MB/s)        \n",
      "E: Can't move file \"/Users/mather01/.cache/arm/packs/.Download/tensorflow.gemmlowp.pdsc\" to \"/Users/mather01/.cache/arm/packs/.Web/tensorflow.gemmlowp.pdsc\": rename /Users/mather01/.cache/arm/packs/.Download/tensorflow.gemmlowp.pdsc /Users/mather01/.cache/arm/packs/.Web/tensorflow.gemmlowp.pdsc: no such file or directory\n",
      "E: rename /Users/mather01/.cache/arm/packs/.Download/tensorflow.gemmlowp.pdsc /Users/mather01/.cache/arm/packs/.Web/tensorflow.gemmlowp.pdsc: no such file or directory\n",
      "I: tensorflow::kissfft can be upgraded from \"1.22.02\" to \"1.22.8\"\n",
      "I: tensorflow::kissfft can be upgraded from \"1.22.5-rc4\" to \"1.22.8\"\n",
      "I: tensorflow::ruy can be upgraded from \"1.22.02\" to \"1.22.8\"\n",
      "I: tensorflow::ruy can be upgraded from \"1.22.5-rc4\" to \"1.22.8\"\n",
      "I: tensorflow::tensorflow-lite-micro can be upgraded from \"1.22.02\" to \"1.22.8\"\n",
      "I: tensorflow::tensorflow-lite-micro can be upgraded from \"1.22.5-rc4\" to \"1.22.8\"\n",
      "I: Downloading tensorflow.kissfft.pdsc...\n",
      "I: 100% |██████████████████████████████████████| (2.3/2.3 kB, 935 kB/s)        \n",
      "I: Downloading tensorflow.tensorflow-lite-micro.pdsc...\n",
      "I: 100% |████████████████████████████████████████| (45/45 kB, 3.5 MB/s)        \n",
      "I: Downloading tensorflow.kissfft.pdsc...\n",
      "I: 100% |██████████████████████████████████████| (2.3/2.3 kB, 9.4 MB/s)        \n",
      "I: Downloading tensorflow.ruy.pdsc...\n",
      "I: 100% |███████████████████████████████████████| (2.3/2.3 kB, 11 MB/s)        \n",
      "I: Downloading tensorflow.ruy.pdsc...\n",
      "I: 100% |███████████████████████████████████████| (2.3/2.3 kB, 13 MB/s)        \n",
      "E: Can't move file \"/Users/mather01/.cache/arm/packs/.Download/tensorflow.ruy.pdsc\" to \"/Users/mather01/.cache/arm/packs/.Web/tensorflow.ruy.pdsc\": rename /Users/mather01/.cache/arm/packs/.Download/tensorflow.ruy.pdsc /Users/mather01/.cache/arm/packs/.Web/tensorflow.ruy.pdsc: no such file or directory\n",
      "E: rename /Users/mather01/.cache/arm/packs/.Download/tensorflow.ruy.pdsc /Users/mather01/.cache/arm/packs/.Web/tensorflow.ruy.pdsc: no such file or directory\n",
      "I: Downloading tensorflow.tensorflow-lite-micro.pdsc...\n",
      "I: 100% |████████████████████████████████████████| (45/45 kB, 658 kB/s)        \n",
      "I: wolfSSL::wolfSSL can be upgraded from \"5.5.0\" to \"5.6.0\"\n",
      "I: Using pack root: \"/Users/mather01/.cache/arm/packs\" (default mode - no specific CMSIS_PACK_ROOT chosen)\n",
      "I: Parsing packs urls via file packs.txt\n",
      "E: Missing a pack-path or list with pack urls specified via -f/--packs-list-filename\n",
      "E: incorrect setup of command line arguments\n"
     ]
    }
   ],
   "source": [
    "!csolution list packs -s mnist.csolution.yml -m >packs.txt\n",
    "!cpackget update-index   \n",
    "!cpackget add -f packs.txt\n"
   ]
  },
  {
   "attachments": {},
   "cell_type": "markdown",
   "metadata": {},
   "source": [
    "Create the cprj CMSIS Project files from the csolution.yml"
   ]
  },
  {
   "cell_type": "code",
   "execution_count": 89,
   "metadata": {},
   "outputs": [
    {
     "name": "stdout",
     "output_type": "stream",
     "text": [
      "/Users/mather01/Documents/GitHub/ML-examples/ethos-u-mdk/mnist-test.debug+avh-cs300.cprj - info csolution: file generated successfully\n",
      "/Users/mather01/Documents/GitHub/ML-examples/ethos-u-mdk/mnist-test.debug+avh-cs310.cprj - info csolution: file generated successfully\n",
      "/Users/mather01/Documents/GitHub/ML-examples/ethos-u-mdk/mnist-test.release+avh-cs300.cprj - info csolution: file generated successfully\n",
      "/Users/mather01/Documents/GitHub/ML-examples/ethos-u-mdk/mnist-test.release+avh-cs310.cprj - info csolution: file generated successfully\n",
      "/Users/mather01/Documents/GitHub/ML-examples/ethos-u-mdk/mnist-test.debug+avh-cs300.cbuild.yml - info csolution: file is already up-to-date\n",
      "/Users/mather01/Documents/GitHub/ML-examples/ethos-u-mdk/mnist-test.debug+avh-cs310.cbuild.yml - info csolution: file is already up-to-date\n",
      "/Users/mather01/Documents/GitHub/ML-examples/ethos-u-mdk/mnist-test.release+avh-cs300.cbuild.yml - info csolution: file is already up-to-date\n",
      "/Users/mather01/Documents/GitHub/ML-examples/ethos-u-mdk/mnist-test.release+avh-cs310.cbuild.yml - info csolution: file is already up-to-date\n",
      "/Users/mather01/Documents/GitHub/ML-examples/ethos-u-mdk/mnist.cbuild-idx.yml - info csolution: file is already up-to-date\n"
     ]
    }
   ],
   "source": [
    "!csolution convert -s mnist.csolution.yml"
   ]
  },
  {
   "attachments": {},
   "cell_type": "markdown",
   "metadata": {},
   "source": [
    "Build the application with cbuild"
   ]
  },
  {
   "cell_type": "code",
   "execution_count": 91,
   "metadata": {},
   "outputs": [
    {
     "name": "stdout",
     "output_type": "stream",
     "text": [
      "info cbuild: Build Invocation 1.6.2 (C) 2023 Arm Ltd. and Contributors\n",
      "\n",
      "M650: Command completed successfully.\n",
      "\n",
      "M652: Generated file for project build: '/Users/mather01/Documents/GitHub/ML-examples/ethos-u-mdk/tmp/mnist-test/avh/debug/CMakeLists.txt'\n",
      "-- The C compiler identification is unknown\n",
      "-- The CXX compiler identification is unknown\n",
      "\u001b[31mCMake Error at CMakeLists.txt:329 (project):\n",
      "  The CMAKE_C_COMPILER:\n",
      "\n",
      "    /home/runner/ArmCompilerforEmbedded6.18/bin/armclang\n",
      "\n",
      "  is not a full path to an existing compiler tool.\n",
      "\n",
      "  Tell CMake where to find the compiler by setting either the environment\n",
      "  variable \"CC\" or the CMake cache entry CMAKE_C_COMPILER to the full path to\n",
      "  the compiler, or to the compiler name if it is in the PATH.\n",
      "\n",
      "\u001b[0m\n",
      "\u001b[31mCMake Error at CMakeLists.txt:329 (project):\n",
      "  The CMAKE_CXX_COMPILER:\n",
      "\n",
      "    /home/runner/ArmCompilerforEmbedded6.18/bin/armclang\n",
      "\n",
      "  is not a full path to an existing compiler tool.\n",
      "\n",
      "  Tell CMake where to find the compiler by setting either the environment\n",
      "  variable \"CXX\" or the CMake cache entry CMAKE_CXX_COMPILER to the full path\n",
      "  to the compiler, or to the compiler name if it is in the PATH.\n",
      "\n",
      "\u001b[0m\n",
      "-- Configuring incomplete, errors occurred!\n",
      "See also \"/Users/mather01/Documents/GitHub/ML-examples/ethos-u-mdk/tmp/mnist-test/avh/debug/CMakeFiles/CMakeOutput.log\".\n",
      "See also \"/Users/mather01/Documents/GitHub/ML-examples/ethos-u-mdk/tmp/mnist-test/avh/debug/CMakeFiles/CMakeError.log\".\n",
      "error cbuild: error executing 'cmake' configuration\n",
      "error cbuild: exit status 1\n"
     ]
    }
   ],
   "source": [
    "!cbuild mnist-test.debug+avh-cs300.cprj"
   ]
  },
  {
   "attachments": {},
   "cell_type": "markdown",
   "metadata": {
    "id": "b5DoS1mDI1WI"
   },
   "source": [
    "## Run/Debug application on Corstone-300"
   ]
  },
  {
   "attachments": {},
   "cell_type": "markdown",
   "metadata": {
    "id": "fhWea6KcqCvs"
   },
   "source": [
    "Run the application in Corstone-300:"
   ]
  },
  {
   "attachments": {},
   "cell_type": "markdown",
   "metadata": {},
   "source": []
  }
 ],
 "metadata": {
  "colab": {
   "collapsed_sections": [],
   "name": "train_and_deploy.ipynb",
   "provenance": [],
   "toc_visible": true
  },
  "kernelspec": {
   "display_name": "Python 3",
   "language": "python",
   "name": "python3"
  },
  "language_info": {
   "codemirror_mode": {
    "name": "ipython",
    "version": 3
   },
   "file_extension": ".py",
   "mimetype": "text/x-python",
   "name": "python",
   "nbconvert_exporter": "python",
   "pygments_lexer": "ipython3",
   "version": "3.11.3"
  },
  "widgets": {
   "application/vnd.jupyter.widget-state+json": {
    "07a92d5a2ba94fbfa98f8e69e858d1b7": {
     "model_module": "@jupyter-widgets/base",
     "model_name": "LayoutModel",
     "state": {
      "_model_module": "@jupyter-widgets/base",
      "_model_module_version": "1.2.0",
      "_model_name": "LayoutModel",
      "_view_count": null,
      "_view_module": "@jupyter-widgets/base",
      "_view_module_version": "1.2.0",
      "_view_name": "LayoutView",
      "align_content": null,
      "align_items": null,
      "align_self": null,
      "border": null,
      "bottom": null,
      "display": null,
      "flex": null,
      "flex_flow": null,
      "grid_area": null,
      "grid_auto_columns": null,
      "grid_auto_flow": null,
      "grid_auto_rows": null,
      "grid_column": null,
      "grid_gap": null,
      "grid_row": null,
      "grid_template_areas": null,
      "grid_template_columns": null,
      "grid_template_rows": null,
      "height": null,
      "justify_content": null,
      "justify_items": null,
      "left": null,
      "margin": null,
      "max_height": null,
      "max_width": null,
      "min_height": null,
      "min_width": null,
      "object_fit": null,
      "object_position": null,
      "order": null,
      "overflow": null,
      "overflow_x": null,
      "overflow_y": null,
      "padding": null,
      "right": null,
      "top": null,
      "visibility": null,
      "width": null
     }
    },
    "20200e22b37c40f38d0cae9d63828d61": {
     "model_module": "@jupyter-widgets/controls",
     "model_name": "HBoxModel",
     "state": {
      "_dom_classes": [],
      "_model_module": "@jupyter-widgets/controls",
      "_model_module_version": "1.5.0",
      "_model_name": "HBoxModel",
      "_view_count": null,
      "_view_module": "@jupyter-widgets/controls",
      "_view_module_version": "1.5.0",
      "_view_name": "HBoxView",
      "box_style": "",
      "children": [
       "IPY_MODEL_a866c812aefb42709c286b504c4b502a",
       "IPY_MODEL_cc2f6b02e2fa4e6b9ba5cadb7c940e38"
      ],
      "layout": "IPY_MODEL_d0332e909a1e41d4b79c78d872426973"
     }
    },
    "2e5a1d3859f74f7ebf8e3a0436276e4f": {
     "model_module": "@jupyter-widgets/controls",
     "model_name": "DescriptionStyleModel",
     "state": {
      "_model_module": "@jupyter-widgets/controls",
      "_model_module_version": "1.5.0",
      "_model_name": "DescriptionStyleModel",
      "_view_count": null,
      "_view_module": "@jupyter-widgets/base",
      "_view_module_version": "1.2.0",
      "_view_name": "StyleView",
      "description_width": ""
     }
    },
    "a866c812aefb42709c286b504c4b502a": {
     "model_module": "@jupyter-widgets/controls",
     "model_name": "FloatProgressModel",
     "state": {
      "_dom_classes": [],
      "_model_module": "@jupyter-widgets/controls",
      "_model_module_version": "1.5.0",
      "_model_name": "FloatProgressModel",
      "_view_count": null,
      "_view_module": "@jupyter-widgets/controls",
      "_view_module_version": "1.5.0",
      "_view_name": "ProgressView",
      "bar_style": "success",
      "description": "Dl Completed...: 100%",
      "description_tooltip": null,
      "layout": "IPY_MODEL_07a92d5a2ba94fbfa98f8e69e858d1b7",
      "max": 4,
      "min": 0,
      "orientation": "horizontal",
      "style": "IPY_MODEL_bedb6318f10e47768eed2b0a76f80169",
      "value": 4
     }
    },
    "b3d302a7846a4ebe8540ad07331ee1b5": {
     "model_module": "@jupyter-widgets/base",
     "model_name": "LayoutModel",
     "state": {
      "_model_module": "@jupyter-widgets/base",
      "_model_module_version": "1.2.0",
      "_model_name": "LayoutModel",
      "_view_count": null,
      "_view_module": "@jupyter-widgets/base",
      "_view_module_version": "1.2.0",
      "_view_name": "LayoutView",
      "align_content": null,
      "align_items": null,
      "align_self": null,
      "border": null,
      "bottom": null,
      "display": null,
      "flex": null,
      "flex_flow": null,
      "grid_area": null,
      "grid_auto_columns": null,
      "grid_auto_flow": null,
      "grid_auto_rows": null,
      "grid_column": null,
      "grid_gap": null,
      "grid_row": null,
      "grid_template_areas": null,
      "grid_template_columns": null,
      "grid_template_rows": null,
      "height": null,
      "justify_content": null,
      "justify_items": null,
      "left": null,
      "margin": null,
      "max_height": null,
      "max_width": null,
      "min_height": null,
      "min_width": null,
      "object_fit": null,
      "object_position": null,
      "order": null,
      "overflow": null,
      "overflow_x": null,
      "overflow_y": null,
      "padding": null,
      "right": null,
      "top": null,
      "visibility": null,
      "width": null
     }
    },
    "bedb6318f10e47768eed2b0a76f80169": {
     "model_module": "@jupyter-widgets/controls",
     "model_name": "ProgressStyleModel",
     "state": {
      "_model_module": "@jupyter-widgets/controls",
      "_model_module_version": "1.5.0",
      "_model_name": "ProgressStyleModel",
      "_view_count": null,
      "_view_module": "@jupyter-widgets/base",
      "_view_module_version": "1.2.0",
      "_view_name": "StyleView",
      "bar_color": null,
      "description_width": "initial"
     }
    },
    "cc2f6b02e2fa4e6b9ba5cadb7c940e38": {
     "model_module": "@jupyter-widgets/controls",
     "model_name": "HTMLModel",
     "state": {
      "_dom_classes": [],
      "_model_module": "@jupyter-widgets/controls",
      "_model_module_version": "1.5.0",
      "_model_name": "HTMLModel",
      "_view_count": null,
      "_view_module": "@jupyter-widgets/controls",
      "_view_module_version": "1.5.0",
      "_view_name": "HTMLView",
      "description": "",
      "description_tooltip": null,
      "layout": "IPY_MODEL_b3d302a7846a4ebe8540ad07331ee1b5",
      "placeholder": "​",
      "style": "IPY_MODEL_2e5a1d3859f74f7ebf8e3a0436276e4f",
      "value": " 4/4 [00:00&lt;00:00,  4.40 file/s]"
     }
    },
    "d0332e909a1e41d4b79c78d872426973": {
     "model_module": "@jupyter-widgets/base",
     "model_name": "LayoutModel",
     "state": {
      "_model_module": "@jupyter-widgets/base",
      "_model_module_version": "1.2.0",
      "_model_name": "LayoutModel",
      "_view_count": null,
      "_view_module": "@jupyter-widgets/base",
      "_view_module_version": "1.2.0",
      "_view_name": "LayoutView",
      "align_content": null,
      "align_items": null,
      "align_self": null,
      "border": null,
      "bottom": null,
      "display": null,
      "flex": null,
      "flex_flow": null,
      "grid_area": null,
      "grid_auto_columns": null,
      "grid_auto_flow": null,
      "grid_auto_rows": null,
      "grid_column": null,
      "grid_gap": null,
      "grid_row": null,
      "grid_template_areas": null,
      "grid_template_columns": null,
      "grid_template_rows": null,
      "height": null,
      "justify_content": null,
      "justify_items": null,
      "left": null,
      "margin": null,
      "max_height": null,
      "max_width": null,
      "min_height": null,
      "min_width": null,
      "object_fit": null,
      "object_position": null,
      "order": null,
      "overflow": null,
      "overflow_x": null,
      "overflow_y": null,
      "padding": null,
      "right": null,
      "top": null,
      "visibility": null,
      "width": null
     }
    }
   }
  }
 },
 "nbformat": 4,
 "nbformat_minor": 1
}
